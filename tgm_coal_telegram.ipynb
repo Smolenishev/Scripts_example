{
 "cells": [
  {
   "cell_type": "code",
   "execution_count": 22,
   "metadata": {},
   "outputs": [],
   "source": [
    "# 2022-09-12 9:35 понед. Фр.\n",
    "# делаю только для Телеграм план факт по добычи угля в простом тестовом сообщении план-факт\n",
    "\n",
    "# 2022-09-13 for GiTHub"
   ]
  },
  {
   "cell_type": "code",
   "execution_count": 23,
   "metadata": {},
   "outputs": [
    {
     "data": {
      "text/plain": [
       "'Z:\\\\AEON-2022\\\\sz\\\\reports'"
      ]
     },
     "execution_count": 23,
     "metadata": {},
     "output_type": "execute_result"
    }
   ],
   "source": [
    "import os\n",
    "\n",
    "os.chdir('.......\\\\reports')\n",
    "os.getcwd()"
   ]
  },
  {
   "cell_type": "code",
   "execution_count": 24,
   "metadata": {},
   "outputs": [],
   "source": [
    "import numpy as np\n",
    "import pandas as pd\n",
    "import datetime\n",
    "import datetime as dt\n",
    "\n",
    "from datetime import datetime, date, timedelta\n",
    "import xlsxwriter\n",
    "import openpyxl\n",
    "import re\n",
    "\n",
    "from dbfread import DBF\n",
    "\n",
    "\n",
    "# библиотека для работы с датами и днями\n",
    "from pandas.tseries.offsets import MonthEnd\n",
    "\n",
    "# для отправки\n",
    "\n",
    "import requests"
   ]
  },
  {
   "cell_type": "code",
   "execution_count": 25,
   "metadata": {},
   "outputs": [],
   "source": [
    "pd.set_option('display.float_format', '{:.2f}'.format)"
   ]
  },
  {
   "cell_type": "code",
   "execution_count": 26,
   "metadata": {},
   "outputs": [],
   "source": [
    "# read dbf\n",
    "\n",
    "dbf = DBF('......\\\\tgm0908.dbf')"
   ]
  },
  {
   "cell_type": "code",
   "execution_count": 27,
   "metadata": {},
   "outputs": [],
   "source": [
    "# конвертация в pandas df\n",
    "df = pd.DataFrame(dbf)"
   ]
  },
  {
   "cell_type": "code",
   "execution_count": 28,
   "metadata": {},
   "outputs": [],
   "source": [
    "# df.tail()"
   ]
  },
  {
   "cell_type": "code",
   "execution_count": 29,
   "metadata": {},
   "outputs": [
    {
     "name": "stdout",
     "output_type": "stream",
     "text": [
      "последний день текущего месяца:  2022-09-30 00:00:00\n"
     ]
    }
   ],
   "source": [
    "# последний день текущего месяца\n",
    "today = dt.datetime.today().strftime(\"%Y-%m-%d\")\n",
    "\n",
    "dem = pd.to_datetime(today)+MonthEnd(1)\n",
    "\n",
    "print('последний день текущего месяца: ', dem)"
   ]
  },
  {
   "cell_type": "code",
   "execution_count": 30,
   "metadata": {},
   "outputs": [
    {
     "name": "stdout",
     "output_type": "stream",
     "text": [
      "Текущий день  12\n",
      "Текущий месяц  9\n",
      "Текущий год  2022\n"
     ]
    }
   ],
   "source": [
    "# сегодня\n",
    "today2 = pd.to_datetime('today')\n",
    "\n",
    "#Сегодня\n",
    "# now = datetime.today()\n",
    "\n",
    "# текущий день\n",
    "td = today2.day\n",
    "\n",
    "print('Текущий день ', td)\n",
    "\n",
    "# текущий месяц\n",
    "tm = today2.month\n",
    "\n",
    "print('Текущий месяц ', tm)\n",
    "\n",
    "# текущий год\n",
    "ty = today2.year\n",
    "\n",
    "print('Текущий год ', ty)"
   ]
  },
  {
   "cell_type": "code",
   "execution_count": 31,
   "metadata": {},
   "outputs": [
    {
     "name": "stdout",
     "output_type": "stream",
     "text": [
      "Текущий месяц September\n"
     ]
    }
   ],
   "source": [
    "# текущий месяц текстом\n",
    "\n",
    "tm_txt = (pd.to_datetime(today2)+MonthEnd(1)).month_name()\n",
    "\n",
    "print('Текущий месяц', tm_txt)\n"
   ]
  },
  {
   "cell_type": "code",
   "execution_count": 32,
   "metadata": {},
   "outputs": [
    {
     "data": {
      "text/plain": [
       "0   2021-10-08\n",
       "1   2021-10-29\n",
       "2   2021-10-29\n",
       "3   2021-10-29\n",
       "4   2021-10-29\n",
       "Name: DATA, dtype: datetime64[ns]"
      ]
     },
     "execution_count": 32,
     "metadata": {},
     "output_type": "execute_result"
    }
   ],
   "source": [
    "# Поле ДАТА в формат дата\n",
    "\n",
    "df['DATA'] = df['DATA'].apply(pd.to_datetime).copy()\n",
    "\n",
    "df['DATA'][:5]"
   ]
  },
  {
   "cell_type": "code",
   "execution_count": 33,
   "metadata": {},
   "outputs": [],
   "source": [
    "df['Год']=pd.DatetimeIndex(df['DATA']).year\n",
    "df['Месяц'] = pd.DatetimeIndex(df['DATA']).month\n",
    "df['День'] = pd.DatetimeIndex(df['DATA']).day\n",
    "\n",
    "#только год и месяц\n",
    "df['YM'] = df['DATA'].dt.to_period('M')"
   ]
  },
  {
   "cell_type": "code",
   "execution_count": 34,
   "metadata": {},
   "outputs": [],
   "source": [
    "# Отбор с мая 2022 год по конец текущего месяца:\n",
    "\n",
    "df = df[(df['DATA']>= '2022-05-01') & (df['DATA']<= dem)]\n",
    "\n",
    "\n",
    "# база только за 2022 год - пока отключил, работаю только по текущий месяц\n",
    "\n",
    "# df = df[df['Год']==2022] "
   ]
  },
  {
   "cell_type": "code",
   "execution_count": 35,
   "metadata": {},
   "outputs": [
    {
     "data": {
      "text/plain": [
       "array(['10.10', '51', '76.14', '60.1', '71.1', '76.9', '62.1', '60.2',\n",
       "       '10.5', '10.3.1', '10.9', '68.1.1', '68.2', '68.4.1', '69.1',\n",
       "       '69.2.7', '69.3.1', '69.11', '70', '76.10', '73.3', '76.41',\n",
       "       '90.1.1', '19.3', '02.1', '97.21', '25', '20.1', '26', '90.9',\n",
       "       '91.9', '68.4.2', '99.2.2', '10.6', '76.АВ', '19.1', '19.4',\n",
       "       '99.1.1', '09', '57.2', '91.1', '52', '60.22', '08.3', '57.22',\n",
       "       '60.21', '62.2'], dtype=object)"
      ]
     },
     "execution_count": 35,
     "metadata": {},
     "output_type": "execute_result"
    }
   ],
   "source": [
    "df['SK'].unique()"
   ]
  },
  {
   "cell_type": "code",
   "execution_count": 36,
   "metadata": {},
   "outputs": [],
   "source": [
    "# df только по счету 90.01 Продажи\n",
    "\n",
    "df = df[df['SK'].str[:6]=='90.1.1']"
   ]
  },
  {
   "cell_type": "code",
   "execution_count": 37,
   "metadata": {},
   "outputs": [
    {
     "data": {
      "text/plain": [
       "array(['Услуги техники с экипажем', 'Вскрышные работы', 'Добыча угля',\n",
       "       'Образование накопителя на территории МУТ'], dtype=object)"
      ]
     },
     "execution_count": 37,
     "metadata": {},
     "output_type": "execute_result"
    }
   ],
   "source": [
    "df['SKK3'].unique()"
   ]
  },
  {
   "cell_type": "code",
   "execution_count": 38,
   "metadata": {},
   "outputs": [],
   "source": [
    "# df только по номенклатуре \"Добыча угля\"\n",
    "# 2022-09-09 добавил и другие показатели в отдельные df\n",
    "\n",
    "df = df[df['SKK3']=='Добыча угля']\n",
    "\n",
    "# # Вскрышные работы\n",
    "# df_over = df[df['SKK3']=='Вскрышные работы']"
   ]
  },
  {
   "cell_type": "code",
   "execution_count": 39,
   "metadata": {},
   "outputs": [],
   "source": [
    "# столбец в тыс.руб.\n",
    "df['ST'] = (df['SUMMA']/1000).round(2)\n",
    "\n",
    "# столбец Количество в тыс.ед.\n",
    "df['KOL_T'] = (df['KOL']/1000).round(2)\n",
    "\n"
   ]
  },
  {
   "cell_type": "code",
   "execution_count": null,
   "metadata": {},
   "outputs": [],
   "source": []
  },
  {
   "cell_type": "code",
   "execution_count": 40,
   "metadata": {},
   "outputs": [
    {
     "data": {
      "text/html": [
       "<div>\n",
       "<style scoped>\n",
       "    .dataframe tbody tr th:only-of-type {\n",
       "        vertical-align: middle;\n",
       "    }\n",
       "\n",
       "    .dataframe tbody tr th {\n",
       "        vertical-align: top;\n",
       "    }\n",
       "\n",
       "    .dataframe thead tr th {\n",
       "        text-align: left;\n",
       "    }\n",
       "\n",
       "    .dataframe thead tr:last-of-type th {\n",
       "        text-align: right;\n",
       "    }\n",
       "</style>\n",
       "<table border=\"1\" class=\"dataframe\">\n",
       "  <thead>\n",
       "    <tr>\n",
       "      <th></th>\n",
       "      <th></th>\n",
       "      <th></th>\n",
       "      <th colspan=\"4\" halign=\"left\">KOL_T</th>\n",
       "    </tr>\n",
       "    <tr>\n",
       "      <th></th>\n",
       "      <th></th>\n",
       "      <th>Год</th>\n",
       "      <th colspan=\"3\" halign=\"left\">2022</th>\n",
       "      <th>All</th>\n",
       "    </tr>\n",
       "    <tr>\n",
       "      <th></th>\n",
       "      <th></th>\n",
       "      <th>Месяц</th>\n",
       "      <th>5</th>\n",
       "      <th>7</th>\n",
       "      <th>8</th>\n",
       "      <th></th>\n",
       "    </tr>\n",
       "    <tr>\n",
       "      <th>SKK1</th>\n",
       "      <th>SKK2</th>\n",
       "      <th>SKK3</th>\n",
       "      <th></th>\n",
       "      <th></th>\n",
       "      <th></th>\n",
       "      <th></th>\n",
       "    </tr>\n",
       "  </thead>\n",
       "  <tbody>\n",
       "    <tr>\n",
       "      <th>02 Горные работы</th>\n",
       "      <th>20%</th>\n",
       "      <th>Добыча угля</th>\n",
       "      <td>10.02</td>\n",
       "      <td>15.61</td>\n",
       "      <td>42.03</td>\n",
       "      <td>67.66</td>\n",
       "    </tr>\n",
       "    <tr>\n",
       "      <th>All</th>\n",
       "      <th></th>\n",
       "      <th></th>\n",
       "      <td>10.02</td>\n",
       "      <td>15.61</td>\n",
       "      <td>42.03</td>\n",
       "      <td>67.66</td>\n",
       "    </tr>\n",
       "  </tbody>\n",
       "</table>\n",
       "</div>"
      ],
      "text/plain": [
       "                                  KOL_T                  \n",
       "Год                                2022               All\n",
       "Месяц                                 5     7     8      \n",
       "SKK1             SKK2 SKK3                               \n",
       "02 Горные работы 20%  Добыча угля 10.02 15.61 42.03 67.66\n",
       "All                               10.02 15.61 42.03 67.66"
      ]
     },
     "execution_count": 40,
     "metadata": {},
     "output_type": "execute_result"
    }
   ],
   "source": [
    "# KOL уголь\n",
    "\n",
    "pt1 = pd.pivot_table(df, index=['SKK1', 'SKK2', 'SKK3'], values=['KOL_T'], columns=['Год', 'Месяц'], aggfunc=np.sum, fill_value='', margins=True)\n",
    "\n",
    "pt1"
   ]
  },
  {
   "cell_type": "code",
   "execution_count": 42,
   "metadata": {},
   "outputs": [
    {
     "data": {
      "text/html": [
       "<div>\n",
       "<style scoped>\n",
       "    .dataframe tbody tr th:only-of-type {\n",
       "        vertical-align: middle;\n",
       "    }\n",
       "\n",
       "    .dataframe tbody tr th {\n",
       "        vertical-align: top;\n",
       "    }\n",
       "\n",
       "    .dataframe thead tr th {\n",
       "        text-align: left;\n",
       "    }\n",
       "\n",
       "    .dataframe thead tr:last-of-type th {\n",
       "        text-align: right;\n",
       "    }\n",
       "</style>\n",
       "<table border=\"1\" class=\"dataframe\">\n",
       "  <thead>\n",
       "    <tr>\n",
       "      <th></th>\n",
       "      <th></th>\n",
       "      <th></th>\n",
       "      <th colspan=\"4\" halign=\"left\">ST</th>\n",
       "    </tr>\n",
       "    <tr>\n",
       "      <th></th>\n",
       "      <th></th>\n",
       "      <th>Год</th>\n",
       "      <th colspan=\"3\" halign=\"left\">2022</th>\n",
       "      <th>All</th>\n",
       "    </tr>\n",
       "    <tr>\n",
       "      <th></th>\n",
       "      <th></th>\n",
       "      <th>Месяц</th>\n",
       "      <th>5</th>\n",
       "      <th>7</th>\n",
       "      <th>8</th>\n",
       "      <th></th>\n",
       "    </tr>\n",
       "    <tr>\n",
       "      <th>SKD1</th>\n",
       "      <th>SKK1</th>\n",
       "      <th>SKK3</th>\n",
       "      <th></th>\n",
       "      <th></th>\n",
       "      <th></th>\n",
       "      <th></th>\n",
       "    </tr>\n",
       "  </thead>\n",
       "  <tbody>\n",
       "    <tr>\n",
       "      <th>СЕВЕРНАЯ ЗВЕЗДА ООО</th>\n",
       "      <th>02 Горные работы</th>\n",
       "      <th>Добыча угля</th>\n",
       "      <td>1635.95</td>\n",
       "      <td>2337.31</td>\n",
       "      <td>7013.80</td>\n",
       "      <td>10987.06</td>\n",
       "    </tr>\n",
       "    <tr>\n",
       "      <th>All</th>\n",
       "      <th></th>\n",
       "      <th></th>\n",
       "      <td>1635.95</td>\n",
       "      <td>2337.31</td>\n",
       "      <td>7013.80</td>\n",
       "      <td>10987.06</td>\n",
       "    </tr>\n",
       "  </tbody>\n",
       "</table>\n",
       "</div>"
      ],
      "text/plain": [
       "                                                      ST                  \\\n",
       "Год                                                 2022                   \n",
       "Месяц                                                  5       7       8   \n",
       "SKD1                SKK1             SKK3                                  \n",
       "СЕВЕРНАЯ ЗВЕЗДА ООО 02 Горные работы Добыча угля 1635.95 2337.31 7013.80   \n",
       "All                                              1635.95 2337.31 7013.80   \n",
       "\n",
       "                                                           \n",
       "Год                                                   All  \n",
       "Месяц                                                      \n",
       "SKD1                SKK1             SKK3                  \n",
       "СЕВЕРНАЯ ЗВЕЗДА ООО 02 Горные работы Добыча угля 10987.06  \n",
       "All                                              10987.06  "
      ]
     },
     "execution_count": 42,
     "metadata": {},
     "output_type": "execute_result"
    }
   ],
   "source": [
    "pt2 = pd.pivot_table(df, index=['SKD1', 'SKK1', 'SKK3'], values=['ST'], columns=['Год', 'Месяц'], aggfunc=np.sum, fill_value='', margins=True)\n",
    "pt2"
   ]
  },
  {
   "cell_type": "code",
   "execution_count": 43,
   "metadata": {},
   "outputs": [
    {
     "data": {
      "text/plain": [
       "'2022-09-12 10:54'"
      ]
     },
     "execution_count": 43,
     "metadata": {},
     "output_type": "execute_result"
    }
   ],
   "source": [
    "# сегодня в номальный вид\n",
    "\n",
    "today = datetime.today().strftime(\"%Y-%m-%d %H:%M\")\n",
    "\n",
    "today"
   ]
  },
  {
   "cell_type": "code",
   "execution_count": 45,
   "metadata": {},
   "outputs": [
    {
     "name": "stdout",
     "output_type": "stream",
     "text": [
      "lastday:  9080   2022-08-31\n",
      "Name: DATA, dtype: datetime64[ns]\n",
      "-------\n",
      "lastday2:  ['2022-08-31']\n"
     ]
    }
   ],
   "source": [
    "# нахождение крайней даты\n",
    "lastday = df['DATA'].sort_values(ascending=True).tail(1).astype('datetime64[ns]')\n",
    "\n",
    "#\n",
    "print('lastday: ', lastday)\n",
    "print('-------')\n",
    "\n",
    "#привоэу в более менее удобный формат для выдачи в текст заголовка\n",
    "lastday2 = lastday.astype('str').values\n",
    "\n",
    "print('lastday2: ', lastday2)"
   ]
  },
  {
   "cell_type": "code",
   "execution_count": 46,
   "metadata": {},
   "outputs": [
    {
     "name": "stderr",
     "output_type": "stream",
     "text": [
      "c:\\Users\\smole\\AppData\\Local\\Programs\\Python\\Python39\\lib\\site-packages\\xlsxwriter\\workbook.py:339: UserWarning: Calling close() on already closed file.\n",
      "  warn(\"Calling close() on already closed file.\")\n"
     ]
    }
   ],
   "source": [
    "#Сохранение всех сводных табл в excel файл (без форматирования)\n",
    "writer = pd.ExcelWriter('Z:\\\\.......\\\\tgm_coal_natur_Telegram_1.xlsx', engine='xlsxwriter')\n",
    "\n",
    "pt1.to_excel(writer, sheet_name='pt1', header = True)\n",
    "pt2.to_excel(writer, sheet_name='pt2', header = True)\n",
    "\n",
    "\n",
    "# df.to_excel(writer, sheet_name='df', header = True)\n",
    "\n",
    "\n",
    "writer.save()\n",
    "writer.close()"
   ]
  },
  {
   "cell_type": "code",
   "execution_count": 47,
   "metadata": {},
   "outputs": [
    {
     "name": "stdout",
     "output_type": "stream",
     "text": [
      "<class 'pandas.core.frame.DataFrame'>\n",
      "RangeIndex: 58 entries, 0 to 57\n",
      "Data columns (total 6 columns):\n",
      " #   Column     Non-Null Count  Dtype         \n",
      "---  ------     --------------  -----         \n",
      " 0   DATA       58 non-null     datetime64[ns]\n",
      " 1   Номенкл    58 non-null     object        \n",
      " 2   Ед.изм.    58 non-null     object        \n",
      " 3   Кол-во     58 non-null     float64       \n",
      " 4   Тариф      58 non-null     float64       \n",
      " 5   Стоимость  58 non-null     float64       \n",
      "dtypes: datetime64[ns](1), float64(3), object(2)\n",
      "memory usage: 2.8+ KB\n"
     ]
    }
   ],
   "source": [
    "###### Работа с бюджетными показателями\n",
    "\n",
    "# загрузка бюджета\n",
    "\n",
    "df_b = pd.read_excel('.......\\\\tgm_budget_22_v2.xlsx', sheet_name='tgm')\n",
    "\n",
    "df_b.info()"
   ]
  },
  {
   "cell_type": "code",
   "execution_count": 48,
   "metadata": {},
   "outputs": [],
   "source": [
    "# стролбцы с периодами\n",
    "df_b['Год'] = df_b['DATA'].dt.year.astype('Int64').values\n",
    "df_b['Месяц'] = df_b['DATA'].dt.month.astype('Int64').values\n",
    "df_b['День'] = df_b['DATA'].dt.day.astype('Int64').values\n",
    "\n",
    "#только год и месяц\n",
    "df_b['YM'] = df_b['DATA'].dt.to_period('M')"
   ]
  },
  {
   "cell_type": "code",
   "execution_count": 49,
   "metadata": {},
   "outputs": [],
   "source": [
    "# df_b.tail()"
   ]
  },
  {
   "cell_type": "code",
   "execution_count": 50,
   "metadata": {},
   "outputs": [
    {
     "data": {
      "text/html": [
       "<div>\n",
       "<style scoped>\n",
       "    .dataframe tbody tr th:only-of-type {\n",
       "        vertical-align: middle;\n",
       "    }\n",
       "\n",
       "    .dataframe tbody tr th {\n",
       "        vertical-align: top;\n",
       "    }\n",
       "\n",
       "    .dataframe thead th {\n",
       "        text-align: right;\n",
       "    }\n",
       "</style>\n",
       "<table border=\"1\" class=\"dataframe\">\n",
       "  <thead>\n",
       "    <tr style=\"text-align: right;\">\n",
       "      <th></th>\n",
       "      <th>DATA</th>\n",
       "      <th>Номенкл</th>\n",
       "      <th>Ед.изм.</th>\n",
       "      <th>Кол-во</th>\n",
       "      <th>Тариф</th>\n",
       "      <th>Стоимость</th>\n",
       "      <th>Год</th>\n",
       "      <th>Месяц</th>\n",
       "      <th>День</th>\n",
       "      <th>YM</th>\n",
       "    </tr>\n",
       "  </thead>\n",
       "  <tbody>\n",
       "    <tr>\n",
       "      <th>0</th>\n",
       "      <td>2022-05-31</td>\n",
       "      <td>Добыча угля</td>\n",
       "      <td>тыс.т.</td>\n",
       "      <td>10.02</td>\n",
       "      <td>110.50</td>\n",
       "      <td>1107.43</td>\n",
       "      <td>2022</td>\n",
       "      <td>5</td>\n",
       "      <td>31</td>\n",
       "      <td>2022-05</td>\n",
       "    </tr>\n",
       "    <tr>\n",
       "      <th>1</th>\n",
       "      <td>2022-06-30</td>\n",
       "      <td>Добыча угля</td>\n",
       "      <td>тыс.т.</td>\n",
       "      <td>0.00</td>\n",
       "      <td>110.50</td>\n",
       "      <td>0.00</td>\n",
       "      <td>2022</td>\n",
       "      <td>6</td>\n",
       "      <td>30</td>\n",
       "      <td>2022-06</td>\n",
       "    </tr>\n",
       "    <tr>\n",
       "      <th>2</th>\n",
       "      <td>2022-07-31</td>\n",
       "      <td>Добыча угля</td>\n",
       "      <td>тыс.т.</td>\n",
       "      <td>25.50</td>\n",
       "      <td>110.50</td>\n",
       "      <td>2817.75</td>\n",
       "      <td>2022</td>\n",
       "      <td>7</td>\n",
       "      <td>31</td>\n",
       "      <td>2022-07</td>\n",
       "    </tr>\n",
       "    <tr>\n",
       "      <th>3</th>\n",
       "      <td>2022-08-31</td>\n",
       "      <td>Добыча угля</td>\n",
       "      <td>тыс.т.</td>\n",
       "      <td>52.50</td>\n",
       "      <td>110.50</td>\n",
       "      <td>5801.25</td>\n",
       "      <td>2022</td>\n",
       "      <td>8</td>\n",
       "      <td>31</td>\n",
       "      <td>2022-08</td>\n",
       "    </tr>\n",
       "    <tr>\n",
       "      <th>4</th>\n",
       "      <td>2022-09-30</td>\n",
       "      <td>Добыча угля</td>\n",
       "      <td>тыс.т.</td>\n",
       "      <td>35.60</td>\n",
       "      <td>110.50</td>\n",
       "      <td>3933.80</td>\n",
       "      <td>2022</td>\n",
       "      <td>9</td>\n",
       "      <td>30</td>\n",
       "      <td>2022-09</td>\n",
       "    </tr>\n",
       "    <tr>\n",
       "      <th>20</th>\n",
       "      <td>2022-05-31</td>\n",
       "      <td>Вскрышные работы</td>\n",
       "      <td>тыс м3</td>\n",
       "      <td>5.00</td>\n",
       "      <td>252.58</td>\n",
       "      <td>1262.90</td>\n",
       "      <td>2022</td>\n",
       "      <td>5</td>\n",
       "      <td>31</td>\n",
       "      <td>2022-05</td>\n",
       "    </tr>\n",
       "    <tr>\n",
       "      <th>21</th>\n",
       "      <td>2022-06-30</td>\n",
       "      <td>Вскрышные работы</td>\n",
       "      <td>тыс м3</td>\n",
       "      <td>81.64</td>\n",
       "      <td>265.43</td>\n",
       "      <td>21669.97</td>\n",
       "      <td>2022</td>\n",
       "      <td>6</td>\n",
       "      <td>30</td>\n",
       "      <td>2022-06</td>\n",
       "    </tr>\n",
       "    <tr>\n",
       "      <th>22</th>\n",
       "      <td>2022-07-31</td>\n",
       "      <td>Вскрышные работы</td>\n",
       "      <td>тыс м3</td>\n",
       "      <td>228.00</td>\n",
       "      <td>264.60</td>\n",
       "      <td>60328.80</td>\n",
       "      <td>2022</td>\n",
       "      <td>7</td>\n",
       "      <td>31</td>\n",
       "      <td>2022-07</td>\n",
       "    </tr>\n",
       "    <tr>\n",
       "      <th>23</th>\n",
       "      <td>2022-08-31</td>\n",
       "      <td>Вскрышные работы</td>\n",
       "      <td>тыс м3</td>\n",
       "      <td>227.10</td>\n",
       "      <td>264.60</td>\n",
       "      <td>60090.66</td>\n",
       "      <td>2022</td>\n",
       "      <td>8</td>\n",
       "      <td>31</td>\n",
       "      <td>2022-08</td>\n",
       "    </tr>\n",
       "    <tr>\n",
       "      <th>24</th>\n",
       "      <td>2022-09-30</td>\n",
       "      <td>Вскрышные работы</td>\n",
       "      <td>тыс м3</td>\n",
       "      <td>217.20</td>\n",
       "      <td>264.60</td>\n",
       "      <td>57471.12</td>\n",
       "      <td>2022</td>\n",
       "      <td>9</td>\n",
       "      <td>30</td>\n",
       "      <td>2022-09</td>\n",
       "    </tr>\n",
       "    <tr>\n",
       "      <th>40</th>\n",
       "      <td>2022-07-31</td>\n",
       "      <td>Транспортировка угля</td>\n",
       "      <td>тыс.т.</td>\n",
       "      <td>35.52</td>\n",
       "      <td>1199.47</td>\n",
       "      <td>42607.57</td>\n",
       "      <td>2022</td>\n",
       "      <td>7</td>\n",
       "      <td>31</td>\n",
       "      <td>2022-07</td>\n",
       "    </tr>\n",
       "    <tr>\n",
       "      <th>41</th>\n",
       "      <td>2022-08-31</td>\n",
       "      <td>Транспортировка угля</td>\n",
       "      <td>тыс.т.</td>\n",
       "      <td>31.20</td>\n",
       "      <td>1199.47</td>\n",
       "      <td>37423.46</td>\n",
       "      <td>2022</td>\n",
       "      <td>8</td>\n",
       "      <td>31</td>\n",
       "      <td>2022-08</td>\n",
       "    </tr>\n",
       "    <tr>\n",
       "      <th>42</th>\n",
       "      <td>2022-09-30</td>\n",
       "      <td>Транспортировка угля</td>\n",
       "      <td>тыс.т.</td>\n",
       "      <td>25.20</td>\n",
       "      <td>1199.47</td>\n",
       "      <td>30226.64</td>\n",
       "      <td>2022</td>\n",
       "      <td>9</td>\n",
       "      <td>30</td>\n",
       "      <td>2022-09</td>\n",
       "    </tr>\n",
       "  </tbody>\n",
       "</table>\n",
       "</div>"
      ],
      "text/plain": [
       "         DATA               Номенкл Ед.изм.  Кол-во   Тариф  Стоимость   Год  \\\n",
       "0  2022-05-31           Добыча угля  тыс.т.   10.02  110.50    1107.43  2022   \n",
       "1  2022-06-30           Добыча угля  тыс.т.    0.00  110.50       0.00  2022   \n",
       "2  2022-07-31           Добыча угля  тыс.т.   25.50  110.50    2817.75  2022   \n",
       "3  2022-08-31           Добыча угля  тыс.т.   52.50  110.50    5801.25  2022   \n",
       "4  2022-09-30           Добыча угля  тыс.т.   35.60  110.50    3933.80  2022   \n",
       "20 2022-05-31      Вскрышные работы  тыс м3    5.00  252.58    1262.90  2022   \n",
       "21 2022-06-30      Вскрышные работы  тыс м3   81.64  265.43   21669.97  2022   \n",
       "22 2022-07-31      Вскрышные работы  тыс м3  228.00  264.60   60328.80  2022   \n",
       "23 2022-08-31      Вскрышные работы  тыс м3  227.10  264.60   60090.66  2022   \n",
       "24 2022-09-30      Вскрышные работы  тыс м3  217.20  264.60   57471.12  2022   \n",
       "40 2022-07-31  Транспортировка угля  тыс.т.   35.52 1199.47   42607.57  2022   \n",
       "41 2022-08-31  Транспортировка угля  тыс.т.   31.20 1199.47   37423.46  2022   \n",
       "42 2022-09-30  Транспортировка угля  тыс.т.   25.20 1199.47   30226.64  2022   \n",
       "\n",
       "    Месяц  День       YM  \n",
       "0       5    31  2022-05  \n",
       "1       6    30  2022-06  \n",
       "2       7    31  2022-07  \n",
       "3       8    31  2022-08  \n",
       "4       9    30  2022-09  \n",
       "20      5    31  2022-05  \n",
       "21      6    30  2022-06  \n",
       "22      7    31  2022-07  \n",
       "23      8    31  2022-08  \n",
       "24      9    30  2022-09  \n",
       "40      7    31  2022-07  \n",
       "41      8    31  2022-08  \n",
       "42      9    30  2022-09  "
      ]
     },
     "execution_count": 50,
     "metadata": {},
     "output_type": "execute_result"
    }
   ],
   "source": [
    "# Отбор с мая 2022 только по конец текущего месяца:\n",
    "\n",
    "df_b = df_b[(df_b['DATA']>= '2022-05-01') & (df_b['DATA']<= dem)]\n",
    "\n",
    "\n",
    "df_b"
   ]
  },
  {
   "cell_type": "code",
   "execution_count": 51,
   "metadata": {},
   "outputs": [],
   "source": [
    "# отбор только по Номенкл \"Добыча угля\"\n",
    "\n",
    "df_b = df_b[df_b['Номенкл']=='Добыча угля']\n",
    "\n",
    "# вскрышные работы\n",
    "\n",
    "# df_b_over = df_b[df_b['Номенкл']=='Вскрышные работы']\n"
   ]
  },
  {
   "cell_type": "code",
   "execution_count": 52,
   "metadata": {},
   "outputs": [
    {
     "data": {
      "text/html": [
       "<div>\n",
       "<style scoped>\n",
       "    .dataframe tbody tr th:only-of-type {\n",
       "        vertical-align: middle;\n",
       "    }\n",
       "\n",
       "    .dataframe tbody tr th {\n",
       "        vertical-align: top;\n",
       "    }\n",
       "\n",
       "    .dataframe thead tr th {\n",
       "        text-align: left;\n",
       "    }\n",
       "\n",
       "    .dataframe thead tr:last-of-type th {\n",
       "        text-align: right;\n",
       "    }\n",
       "</style>\n",
       "<table border=\"1\" class=\"dataframe\">\n",
       "  <thead>\n",
       "    <tr>\n",
       "      <th></th>\n",
       "      <th colspan=\"6\" halign=\"left\">Кол-во</th>\n",
       "    </tr>\n",
       "    <tr>\n",
       "      <th>Год</th>\n",
       "      <th colspan=\"5\" halign=\"left\">2022</th>\n",
       "      <th>All</th>\n",
       "    </tr>\n",
       "    <tr>\n",
       "      <th>Месяц</th>\n",
       "      <th>5</th>\n",
       "      <th>6</th>\n",
       "      <th>7</th>\n",
       "      <th>8</th>\n",
       "      <th>9</th>\n",
       "      <th></th>\n",
       "    </tr>\n",
       "    <tr>\n",
       "      <th>Номенкл</th>\n",
       "      <th></th>\n",
       "      <th></th>\n",
       "      <th></th>\n",
       "      <th></th>\n",
       "      <th></th>\n",
       "      <th></th>\n",
       "    </tr>\n",
       "  </thead>\n",
       "  <tbody>\n",
       "    <tr>\n",
       "      <th>Добыча угля</th>\n",
       "      <td>10.02</td>\n",
       "      <td>0.00</td>\n",
       "      <td>25.50</td>\n",
       "      <td>52.50</td>\n",
       "      <td>35.60</td>\n",
       "      <td>123.62</td>\n",
       "    </tr>\n",
       "    <tr>\n",
       "      <th>All</th>\n",
       "      <td>10.02</td>\n",
       "      <td>0.00</td>\n",
       "      <td>25.50</td>\n",
       "      <td>52.50</td>\n",
       "      <td>35.60</td>\n",
       "      <td>123.62</td>\n",
       "    </tr>\n",
       "  </tbody>\n",
       "</table>\n",
       "</div>"
      ],
      "text/plain": [
       "            Кол-во                              \n",
       "Год           2022                           All\n",
       "Месяц            5    6     7     8     9       \n",
       "Номенкл                                         \n",
       "Добыча угля  10.02 0.00 25.50 52.50 35.60 123.62\n",
       "All          10.02 0.00 25.50 52.50 35.60 123.62"
      ]
     },
     "execution_count": 52,
     "metadata": {},
     "output_type": "execute_result"
    }
   ],
   "source": [
    "# Тестовая сводная табл по бюджету\n",
    "\n",
    "pt1_b = pd.pivot_table(df_b, index=['Номенкл'], values=['Кол-во'], columns=['Год', 'Месяц'], aggfunc=np.sum, fill_value='', margins=True)\n",
    "\n",
    "pt1_b"
   ]
  },
  {
   "cell_type": "code",
   "execution_count": 53,
   "metadata": {},
   "outputs": [
    {
     "data": {
      "text/html": [
       "<div>\n",
       "<style scoped>\n",
       "    .dataframe tbody tr th:only-of-type {\n",
       "        vertical-align: middle;\n",
       "    }\n",
       "\n",
       "    .dataframe tbody tr th {\n",
       "        vertical-align: top;\n",
       "    }\n",
       "\n",
       "    .dataframe thead th {\n",
       "        text-align: right;\n",
       "    }\n",
       "</style>\n",
       "<table border=\"1\" class=\"dataframe\">\n",
       "  <thead>\n",
       "    <tr style=\"text-align: right;\">\n",
       "      <th></th>\n",
       "      <th>Период</th>\n",
       "      <th>План</th>\n",
       "    </tr>\n",
       "  </thead>\n",
       "  <tbody>\n",
       "    <tr>\n",
       "      <th>0</th>\n",
       "      <td>2022-05</td>\n",
       "      <td>10.02</td>\n",
       "    </tr>\n",
       "    <tr>\n",
       "      <th>1</th>\n",
       "      <td>2022-06</td>\n",
       "      <td>0.00</td>\n",
       "    </tr>\n",
       "    <tr>\n",
       "      <th>2</th>\n",
       "      <td>2022-07</td>\n",
       "      <td>25.50</td>\n",
       "    </tr>\n",
       "    <tr>\n",
       "      <th>3</th>\n",
       "      <td>2022-08</td>\n",
       "      <td>52.50</td>\n",
       "    </tr>\n",
       "    <tr>\n",
       "      <th>4</th>\n",
       "      <td>2022-09</td>\n",
       "      <td>35.60</td>\n",
       "    </tr>\n",
       "  </tbody>\n",
       "</table>\n",
       "</div>"
      ],
      "text/plain": [
       "    Период  План\n",
       "0  2022-05 10.02\n",
       "1  2022-06  0.00\n",
       "2  2022-07 25.50\n",
       "3  2022-08 52.50\n",
       "4  2022-09 35.60"
      ]
     },
     "execution_count": 53,
     "metadata": {},
     "output_type": "execute_result"
    }
   ],
   "source": [
    "# сводная табл по бюджету для работы\n",
    "\n",
    "pt2_b = pd.pivot_table(df_b, index=['YM'], values=['Кол-во'], aggfunc=np.sum, fill_value='').reset_index() # , columns=['Номенкл']\n",
    "\n",
    "# переименование столбцов\n",
    "pt2_b.rename(columns={'YM':'Период', 'Кол-во': 'План'}, inplace=True)\n",
    "\n",
    "pt2_b"
   ]
  },
  {
   "cell_type": "code",
   "execution_count": 54,
   "metadata": {},
   "outputs": [
    {
     "data": {
      "text/html": [
       "<div>\n",
       "<style scoped>\n",
       "    .dataframe tbody tr th:only-of-type {\n",
       "        vertical-align: middle;\n",
       "    }\n",
       "\n",
       "    .dataframe tbody tr th {\n",
       "        vertical-align: top;\n",
       "    }\n",
       "\n",
       "    .dataframe thead th {\n",
       "        text-align: right;\n",
       "    }\n",
       "</style>\n",
       "<table border=\"1\" class=\"dataframe\">\n",
       "  <thead>\n",
       "    <tr style=\"text-align: right;\">\n",
       "      <th></th>\n",
       "      <th>Период</th>\n",
       "      <th>Факт</th>\n",
       "    </tr>\n",
       "  </thead>\n",
       "  <tbody>\n",
       "    <tr>\n",
       "      <th>0</th>\n",
       "      <td>2022-05</td>\n",
       "      <td>10.02</td>\n",
       "    </tr>\n",
       "    <tr>\n",
       "      <th>1</th>\n",
       "      <td>2022-07</td>\n",
       "      <td>15.61</td>\n",
       "    </tr>\n",
       "    <tr>\n",
       "      <th>2</th>\n",
       "      <td>2022-08</td>\n",
       "      <td>42.03</td>\n",
       "    </tr>\n",
       "  </tbody>\n",
       "</table>\n",
       "</div>"
      ],
      "text/plain": [
       "    Период  Факт\n",
       "0  2022-05 10.02\n",
       "1  2022-07 15.61\n",
       "2  2022-08 42.03"
      ]
     },
     "execution_count": 54,
     "metadata": {},
     "output_type": "execute_result"
    }
   ],
   "source": [
    "# сводная табл по факту для работы\n",
    "\n",
    "pt2_f = pd.pivot_table(df, index=['YM'], values=['KOL_T'], aggfunc=np.sum, fill_value='').reset_index() # , columns=['SKK3']\n",
    "\n",
    "# переименование столбцов\n",
    "\n",
    "pt2_f.rename(columns={'YM':'Период', 'KOL_T': 'Факт'}, inplace=True)\n",
    "\n",
    "pt2_f\n"
   ]
  },
  {
   "cell_type": "code",
   "execution_count": 55,
   "metadata": {},
   "outputs": [
    {
     "data": {
      "text/html": [
       "<div>\n",
       "<style scoped>\n",
       "    .dataframe tbody tr th:only-of-type {\n",
       "        vertical-align: middle;\n",
       "    }\n",
       "\n",
       "    .dataframe tbody tr th {\n",
       "        vertical-align: top;\n",
       "    }\n",
       "\n",
       "    .dataframe thead th {\n",
       "        text-align: right;\n",
       "    }\n",
       "</style>\n",
       "<table border=\"1\" class=\"dataframe\">\n",
       "  <thead>\n",
       "    <tr style=\"text-align: right;\">\n",
       "      <th></th>\n",
       "      <th>План</th>\n",
       "      <th>Факт</th>\n",
       "    </tr>\n",
       "    <tr>\n",
       "      <th>Период</th>\n",
       "      <th></th>\n",
       "      <th></th>\n",
       "    </tr>\n",
       "  </thead>\n",
       "  <tbody>\n",
       "    <tr>\n",
       "      <th>2022-05</th>\n",
       "      <td>10.02</td>\n",
       "      <td>10.02</td>\n",
       "    </tr>\n",
       "    <tr>\n",
       "      <th>2022-06</th>\n",
       "      <td>0.00</td>\n",
       "      <td>0.00</td>\n",
       "    </tr>\n",
       "    <tr>\n",
       "      <th>2022-07</th>\n",
       "      <td>25.50</td>\n",
       "      <td>15.61</td>\n",
       "    </tr>\n",
       "    <tr>\n",
       "      <th>2022-08</th>\n",
       "      <td>52.50</td>\n",
       "      <td>42.03</td>\n",
       "    </tr>\n",
       "    <tr>\n",
       "      <th>2022-09</th>\n",
       "      <td>35.60</td>\n",
       "      <td>0.00</td>\n",
       "    </tr>\n",
       "  </tbody>\n",
       "</table>\n",
       "</div>"
      ],
      "text/plain": [
       "         План  Факт\n",
       "Период             \n",
       "2022-05 10.02 10.02\n",
       "2022-06  0.00  0.00\n",
       "2022-07 25.50 15.61\n",
       "2022-08 52.50 42.03\n",
       "2022-09 35.60  0.00"
      ]
     },
     "execution_count": 55,
     "metadata": {},
     "output_type": "execute_result"
    }
   ],
   "source": [
    "# слияние план-факт Добыча угля\n",
    "\n",
    "m0 = pt2_b.merge(pt2_f, how = 'outer').set_index('Период') #\n",
    "\n",
    "m0 = m0.fillna(0, inplace=False)\n",
    "\n",
    "m0.round(2)\n",
    "\n",
    "m0"
   ]
  },
  {
   "cell_type": "code",
   "execution_count": 56,
   "metadata": {},
   "outputs": [
    {
     "data": {
      "text/html": [
       "<div>\n",
       "<style scoped>\n",
       "    .dataframe tbody tr th:only-of-type {\n",
       "        vertical-align: middle;\n",
       "    }\n",
       "\n",
       "    .dataframe tbody tr th {\n",
       "        vertical-align: top;\n",
       "    }\n",
       "\n",
       "    .dataframe thead th {\n",
       "        text-align: right;\n",
       "    }\n",
       "</style>\n",
       "<table border=\"1\" class=\"dataframe\">\n",
       "  <thead>\n",
       "    <tr style=\"text-align: right;\">\n",
       "      <th></th>\n",
       "      <th>План</th>\n",
       "      <th>Факт</th>\n",
       "      <th>Абс.откл</th>\n",
       "      <th>Отн.откл%</th>\n",
       "      <th>Отн.откл</th>\n",
       "    </tr>\n",
       "    <tr>\n",
       "      <th>Период</th>\n",
       "      <th></th>\n",
       "      <th></th>\n",
       "      <th></th>\n",
       "      <th></th>\n",
       "      <th></th>\n",
       "    </tr>\n",
       "  </thead>\n",
       "  <tbody>\n",
       "    <tr>\n",
       "      <th>2022-05</th>\n",
       "      <td>10.02</td>\n",
       "      <td>10.02</td>\n",
       "      <td>-0.00</td>\n",
       "      <td>-0.02</td>\n",
       "      <td>-0.00</td>\n",
       "    </tr>\n",
       "    <tr>\n",
       "      <th>2022-06</th>\n",
       "      <td>0.00</td>\n",
       "      <td>0.00</td>\n",
       "      <td>0.00</td>\n",
       "      <td>0.00</td>\n",
       "      <td>0.00</td>\n",
       "    </tr>\n",
       "    <tr>\n",
       "      <th>2022-07</th>\n",
       "      <td>25.50</td>\n",
       "      <td>15.61</td>\n",
       "      <td>-9.89</td>\n",
       "      <td>-38.78</td>\n",
       "      <td>-0.39</td>\n",
       "    </tr>\n",
       "    <tr>\n",
       "      <th>2022-08</th>\n",
       "      <td>52.50</td>\n",
       "      <td>42.03</td>\n",
       "      <td>-10.47</td>\n",
       "      <td>-19.94</td>\n",
       "      <td>-0.20</td>\n",
       "    </tr>\n",
       "    <tr>\n",
       "      <th>2022-09</th>\n",
       "      <td>35.60</td>\n",
       "      <td>0.00</td>\n",
       "      <td>-35.60</td>\n",
       "      <td>-100.00</td>\n",
       "      <td>-1.00</td>\n",
       "    </tr>\n",
       "  </tbody>\n",
       "</table>\n",
       "</div>"
      ],
      "text/plain": [
       "         План  Факт  Абс.откл  Отн.откл%  Отн.откл\n",
       "Период                                            \n",
       "2022-05 10.02 10.02     -0.00      -0.02     -0.00\n",
       "2022-06  0.00  0.00      0.00       0.00      0.00\n",
       "2022-07 25.50 15.61     -9.89     -38.78     -0.39\n",
       "2022-08 52.50 42.03    -10.47     -19.94     -0.20\n",
       "2022-09 35.60  0.00    -35.60    -100.00     -1.00"
      ]
     },
     "execution_count": 56,
     "metadata": {},
     "output_type": "execute_result"
    }
   ],
   "source": [
    "# Добыча угля\n",
    "m0['Абс.откл'] = (m0['Факт']- m0['План'])\n",
    "m0['Отн.откл%'] = (m0['Абс.откл'] / m0['План'] *100).round(2)\n",
    "m0['Отн.откл'] = (m0['Абс.откл'] / m0['План']).round(4)\n",
    "\n",
    "m0 = m0.fillna(0, inplace=False)\n",
    "\n",
    "m0"
   ]
  },
  {
   "cell_type": "code",
   "execution_count": 57,
   "metadata": {},
   "outputs": [
    {
     "data": {
      "text/html": [
       "<div>\n",
       "<style scoped>\n",
       "    .dataframe tbody tr th:only-of-type {\n",
       "        vertical-align: middle;\n",
       "    }\n",
       "\n",
       "    .dataframe tbody tr th {\n",
       "        vertical-align: top;\n",
       "    }\n",
       "\n",
       "    .dataframe thead th {\n",
       "        text-align: right;\n",
       "    }\n",
       "</style>\n",
       "<table border=\"1\" class=\"dataframe\">\n",
       "  <thead>\n",
       "    <tr style=\"text-align: right;\">\n",
       "      <th></th>\n",
       "      <th>План</th>\n",
       "      <th>Факт</th>\n",
       "      <th>Абс.откл</th>\n",
       "      <th>Отн.откл%</th>\n",
       "    </tr>\n",
       "    <tr>\n",
       "      <th>Период</th>\n",
       "      <th></th>\n",
       "      <th></th>\n",
       "      <th></th>\n",
       "      <th></th>\n",
       "    </tr>\n",
       "  </thead>\n",
       "  <tbody>\n",
       "    <tr>\n",
       "      <th>2022-05</th>\n",
       "      <td>10.02</td>\n",
       "      <td>10.02</td>\n",
       "      <td>-0.00</td>\n",
       "      <td>-0.02</td>\n",
       "    </tr>\n",
       "    <tr>\n",
       "      <th>2022-06</th>\n",
       "      <td>0.00</td>\n",
       "      <td>0.00</td>\n",
       "      <td>0.00</td>\n",
       "      <td>0.00</td>\n",
       "    </tr>\n",
       "    <tr>\n",
       "      <th>2022-07</th>\n",
       "      <td>25.50</td>\n",
       "      <td>15.61</td>\n",
       "      <td>-9.89</td>\n",
       "      <td>-38.78</td>\n",
       "    </tr>\n",
       "    <tr>\n",
       "      <th>2022-08</th>\n",
       "      <td>52.50</td>\n",
       "      <td>42.03</td>\n",
       "      <td>-10.47</td>\n",
       "      <td>-19.94</td>\n",
       "    </tr>\n",
       "    <tr>\n",
       "      <th>2022-09</th>\n",
       "      <td>35.60</td>\n",
       "      <td>0.00</td>\n",
       "      <td>-35.60</td>\n",
       "      <td>-100.00</td>\n",
       "    </tr>\n",
       "  </tbody>\n",
       "</table>\n",
       "</div>"
      ],
      "text/plain": [
       "         План  Факт  Абс.откл  Отн.откл%\n",
       "Период                                  \n",
       "2022-05 10.02 10.02     -0.00      -0.02\n",
       "2022-06  0.00  0.00      0.00       0.00\n",
       "2022-07 25.50 15.61     -9.89     -38.78\n",
       "2022-08 52.50 42.03    -10.47     -19.94\n",
       "2022-09 35.60  0.00    -35.60    -100.00"
      ]
     },
     "execution_count": 57,
     "metadata": {},
     "output_type": "execute_result"
    }
   ],
   "source": [
    "# Добыча угля только нужные столбцы\n",
    "m1 = m0[['План','Факт', 'Абс.откл', 'Отн.откл%']]\n",
    "\n",
    "m1"
   ]
  },
  {
   "cell_type": "code",
   "execution_count": 58,
   "metadata": {},
   "outputs": [
    {
     "name": "stdout",
     "output_type": "stream",
     "text": [
      "35.6\n",
      "0.0\n",
      "-35.6\n",
      "-100.0\n"
     ]
    }
   ],
   "source": [
    "# взять данные из последней строки (данные за последний месяц) в переменные\n",
    "\n",
    "План_У_тм = (m1.iloc[-1][0]).round(2)\n",
    "\n",
    "Факт_У_тм = (m1.iloc[-1][1]).round(2)\n",
    "\n",
    "абс_У_тм = (Факт_У_тм - План_У_тм).round(2)\n",
    "отн_У_тм = ((абс_У_тм/План_У_тм)*100).round(2)\n",
    "\n",
    "print(План_У_тм)\n",
    "print(Факт_У_тм)\n",
    "print(абс_У_тм)\n",
    "print(отн_У_тм)"
   ]
  },
  {
   "cell_type": "code",
   "execution_count": null,
   "metadata": {},
   "outputs": [],
   "source": []
  },
  {
   "cell_type": "code",
   "execution_count": 59,
   "metadata": {},
   "outputs": [
    {
     "name": "stdout",
     "output_type": "stream",
     "text": [
      "План:  123.62\n",
      "Факт:  67.66\n",
      "абс:  -55.96\n",
      "отн %:  -45.27\n"
     ]
    }
   ],
   "source": [
    "# переменные с итогами\n",
    "План_У = m0['План'].sum().round(2)\n",
    "Факт_У = m0['Факт'].sum().round(2)\n",
    "абс_У = (Факт_У - План_У).round(2)\n",
    "отн_У = ((абс_У/План_У)*100).round(2)\n",
    "\n",
    "print('План: ', План_У)\n",
    "print('Факт: ', Факт_У)\n",
    "print('абс: ', абс_У)\n",
    "print('отн %: ', отн_У)"
   ]
  },
  {
   "cell_type": "code",
   "execution_count": 60,
   "metadata": {},
   "outputs": [],
   "source": [
    "####\n",
    "# Передача данных в Телеграм канал\n"
   ]
  },
  {
   "cell_type": "code",
   "execution_count": 61,
   "metadata": {},
   "outputs": [
    {
     "name": "stdout",
     "output_type": "stream",
     "text": [
      "Добрый день,\n",
      "Передаю для информации отчет по добычи угля на проекте \"Северная Звезда\".\n",
      "\n",
      "Всего c мая 2022 по текущий месяц (September-2022) добыча угля составила (тыс.тонн):\n",
      "    План:\t 123.62\n",
      "    Факт:\t 67.66\n",
      "    Абс.откл.:\t -55.96\n",
      "    Отн.откл.:\t -45.27%\n",
      "\n",
      "Всего за текущий месяц (September-2022) добыча угля составила (тыс.тонн):\n",
      "    План:\t 35.6\n",
      "    Факт:\t 0.0\n",
      "    Абс.откл.:\t -35.6\n",
      "    Отн.откл.:\t -100.0%\n",
      "\n",
      "Источник данных: 1С ТаймырГорМаш (счет 90.01, номенклатура \"Добыча угля\").\n",
      "Плановые данные взяты из подготавливаемого в настоящее время бюджета.\n",
      "\n",
      "С уважением,\n",
      "Смоленышев Олег\n",
      "2022-09-12 10:54\n"
     ]
    }
   ],
   "source": [
    "# Текст для отправки\n",
    "\n",
    "text1 = f'Добрый день,\\n\\\n",
    "Передаю для информации отчет по добычи угля на проекте \"......\".\\n\\\n",
    "\\n\\\n",
    "Всего c мая 2022 по текущий месяц ({tm_txt}-{ty}) добыча угля составила (тыс.тонн):\\n\\\n",
    "    План:\\t {План_У}\\n\\\n",
    "    Факт:\\t {Факт_У}\\n\\\n",
    "    Абс.откл.:\\t {абс_У}\\n\\\n",
    "    Отн.откл.:\\t {отн_У}%\\n\\n\\\n",
    "Всего за текущий месяц ({tm_txt}-{ty}) добыча угля составила (тыс.тонн):\\n\\\n",
    "    План:\\t {План_У_тм}\\n\\\n",
    "    Факт:\\t {Факт_У_тм}\\n\\\n",
    "    Абс.откл.:\\t {абс_У_тм}\\n\\\n",
    "    Отн.откл.:\\t {отн_У_тм}%\\n\\n\\\n",
    "Источник данных: 1С ..... (счет 90.01, номенклатура \"Добыча угля\").\\n\\\n",
    "Плановые данные взяты из подготавливаемого в настоящее время бюджета.\\n\\n\\\n",
    "С уважением,\\n\\\n",
    "Смоленышев Олег\\n\\\n",
    "{today}'\n",
    "\n",
    "print(text1)"
   ]
  },
  {
   "cell_type": "code",
   "execution_count": null,
   "metadata": {},
   "outputs": [],
   "source": []
  },
  {
   "cell_type": "code",
   "execution_count": 62,
   "metadata": {},
   "outputs": [],
   "source": [
    "# Отправки сообщения в Телеграм канал Smolenishev_reports\n",
    "\n",
    "api_token = '.................'\n",
    "req1 = requests.get('https://api.telegram.org/bot{}/sendMessage'.format(api_token), params=dict(chat_id=........., text=text1))"
   ]
  },
  {
   "cell_type": "code",
   "execution_count": null,
   "metadata": {},
   "outputs": [],
   "source": []
  }
 ],
 "metadata": {
  "kernelspec": {
   "display_name": "Python 3.9.5 64-bit",
   "language": "python",
   "name": "python3"
  },
  "language_info": {
   "codemirror_mode": {
    "name": "ipython",
    "version": 3
   },
   "file_extension": ".py",
   "mimetype": "text/x-python",
   "name": "python",
   "nbconvert_exporter": "python",
   "pygments_lexer": "ipython3",
   "version": "3.9.5"
  },
  "orig_nbformat": 4,
  "vscode": {
   "interpreter": {
    "hash": "02a12a93c7a3a255ffff46305ae692daa470df62dcf81557099fcb820ba52b82"
   }
  }
 },
 "nbformat": 4,
 "nbformat_minor": 2
}
