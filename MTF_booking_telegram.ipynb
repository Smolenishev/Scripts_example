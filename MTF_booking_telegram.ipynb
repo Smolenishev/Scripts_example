{
 "cells": [
  {
   "cell_type": "code",
   "execution_count": 1,
   "metadata": {},
   "outputs": [],
   "source": [
    "# MTF booking 2022\n",
    "# 2021-10-31 делаю отчет для передачи в Телеграм по продажам туров за вчерашний день\n"
   ]
  },
  {
   "cell_type": "code",
   "execution_count": 2,
   "metadata": {},
   "outputs": [
    {
     "data": {
      "text/plain": [
       "'c:\\\\Python\\\\MTF_telegram'"
      ]
     },
     "execution_count": 2,
     "metadata": {},
     "output_type": "execute_result"
    }
   ],
   "source": [
    "#работаю в директории:\n",
    "import os\n",
    "\n",
    "os.chdir('C:\\\\Python\\\\MTF_telegram')\n",
    "os.getcwd()\n"
   ]
  },
  {
   "cell_type": "code",
   "execution_count": 3,
   "metadata": {},
   "outputs": [],
   "source": [
    "# загрузка библиотек\n",
    "import numpy as np\n",
    "import pandas as pd\n",
    "from datetime import datetime, date, timedelta\n",
    "# import openpyxl\n",
    "# import xlsxwriter\n",
    "\n",
    "import pymysql.cursors\n",
    "\n",
    "import psycopg2\n",
    "import pandas.io.sql as psql\n",
    "\n",
    "import requests"
   ]
  },
  {
   "cell_type": "code",
   "execution_count": 4,
   "metadata": {},
   "outputs": [
    {
     "name": "stdout",
     "output_type": "stream",
     "text": [
      "<class 'pandas.core.frame.DataFrame'>\n",
      "RangeIndex: 133099 entries, 0 to 133098\n",
      "Data columns (total 15 columns):\n",
      " #   Column         Non-Null Count   Dtype  \n",
      "---  ------         --------------   -----  \n",
      " 0   doc_num        133099 non-null  int64  \n",
      " 1   doc_date       133099 non-null  object \n",
      " 2   cruise_type    133099 non-null  object \n",
      " 3   summ           133099 non-null  float64\n",
      " 4   date_start     133099 non-null  object \n",
      " 5   date_finish    133099 non-null  object \n",
      " 6   route          133099 non-null  object \n",
      " 7   ship_name      133099 non-null  object \n",
      " 8   payer          133088 non-null  object \n",
      " 9   operator_name  133099 non-null  object \n",
      " 10  manager        133096 non-null  object \n",
      " 11  orderid        133099 non-null  int64  \n",
      " 12  tourid         133099 non-null  int64  \n",
      " 13  ptype          133099 non-null  object \n",
      " 14  office         118379 non-null  object \n",
      "dtypes: float64(1), int64(3), object(11)\n",
      "memory usage: 15.2+ MB\n"
     ]
    }
   ],
   "source": [
    "# подключение к view из MTF booking\n",
    "conn = psycopg2.connect(dbname='XXX', user='XXX', password='XXX', host='XX.XX.XX.XX')\n",
    "cursor = conn.cursor()\n",
    "\n",
    "cursor.execute('SELECT * FROM payments_view')\n",
    "\n",
    "records = cursor.fetchall()\n",
    "\n",
    "conn_2 = psycopg2.connect(dbname='XXX', user='XXX', password='XXX', host='XX.XX.XX.XX')\n",
    "df = psql.read_sql('SELECT * FROM payments_view', conn_2)\n",
    "\n",
    "df.info()\n",
    "\n",
    "#  2021 10 22 грузилось 9,5 сек.\n",
    "#  2021 10 22 грузилось 7,7 сек.\n",
    "#  2021 10 22 грузилось 8,1 сек."
   ]
  },
  {
   "cell_type": "code",
   "execution_count": 5,
   "metadata": {},
   "outputs": [],
   "source": [
    "#преобразовываю в dstetime\n",
    "df[\"doc_date\"] = pd.to_datetime(df[\"doc_date\"])\n",
    "df[\"date_start\"] = pd.to_datetime(df[\"date_start\"])\n",
    "df[\"date_finish\"] = pd.to_datetime(df[\"date_finish\"])\n",
    "\n",
    "#добавляю год и месяц в отдельные столбцы\n",
    "df['Month'] = df[\"doc_date\"].dt.month\n",
    "df['Year'] = df[\"doc_date\"].dt.year\n",
    "df['Day'] = df[\"doc_date\"].dt.day\n",
    "\n",
    "\n",
    "df['Month_start'] = df[\"date_start\"].dt.month\n",
    "df['Year_start'] = df[\"date_start\"].dt.year\n"
   ]
  },
  {
   "cell_type": "code",
   "execution_count": 6,
   "metadata": {},
   "outputs": [],
   "source": [
    "#столбец с тыс.₽\n",
    "df[\"ST\"] = df[\"summ\"]/1000\n",
    "\n",
    "#округлить df[\"ST\"]:\n",
    "df[\"ST2\"] = pd.to_numeric(df[\"ST\"]).round(1)"
   ]
  },
  {
   "cell_type": "code",
   "execution_count": 7,
   "metadata": {},
   "outputs": [],
   "source": [
    "#Табл. данные по круизам только с 2021 года и далее\n",
    "df1 = df[df[\"date_start\"] >= '2022-01-01']"
   ]
  },
  {
   "cell_type": "code",
   "execution_count": 8,
   "metadata": {},
   "outputs": [
    {
     "name": "stdout",
     "output_type": "stream",
     "text": [
      "lrd:  74886   2022-01-11\n",
      "Name: doc_date, dtype: datetime64[ns]\n",
      "-------\n",
      "lrd2:  ['2022-01-11']\n",
      "-------\n",
      "lrd3:  74886   2022-01-11\n",
      "Name: doc_date, dtype: datetime64[ns]\n",
      "-------\n"
     ]
    }
   ],
   "source": [
    "# нахождение крайней даты\n",
    "lrd = df1[\"doc_date\"].sort_values(ascending=True).tail(1).astype('datetime64[ns]')\n",
    "\n",
    "#lrd\n",
    "print('lrd: ', lrd)\n",
    "print('-------')\n",
    "\n",
    "#привоэу в более менее удобный формат для выдачи в текст заголовка\n",
    "lrd2 = lrd.astype('str').values\n",
    "\n",
    "print('lrd2: ', lrd2)\n",
    "print('-------')\n",
    "\n",
    "lrd3 = lrd.astype('datetime64[ns]') #.dt.strftime('%Y/%m/%d')\n",
    "print('lrd3: ', lrd3)\n",
    "print('-------')"
   ]
  },
  {
   "cell_type": "code",
   "execution_count": 9,
   "metadata": {},
   "outputs": [
    {
     "name": "stdout",
     "output_type": "stream",
     "text": [
      "today:  2022-01-11 19:37:32.708559\n",
      "today2:  2022-01-11\n",
      "today3:  2022-01-11 19:37\n"
     ]
    }
   ],
   "source": [
    "# сегодня\n",
    "today = pd.to_datetime('today')\n",
    "\n",
    "print('today: ', today)\n",
    "\n",
    "today2 = datetime.today().strftime('%Y-%m-%d')\n",
    "\n",
    "print('today2: ', today2)\n",
    "\n",
    "today3 = datetime.today().strftime('%Y-%m-%d %H:%M')\n",
    "\n",
    "print('today3: ', today3)\n"
   ]
  },
  {
   "cell_type": "code",
   "execution_count": 10,
   "metadata": {},
   "outputs": [
    {
     "data": {
      "text/plain": [
       "str"
      ]
     },
     "execution_count": 10,
     "metadata": {},
     "output_type": "execute_result"
    }
   ],
   "source": [
    "type(today)\n",
    "type(today2)\n",
    "type(today3)"
   ]
  },
  {
   "cell_type": "code",
   "execution_count": 11,
   "metadata": {},
   "outputs": [
    {
     "name": "stdout",
     "output_type": "stream",
     "text": [
      "yestoday:  2022-01-10 19:37:38.904280\n"
     ]
    }
   ],
   "source": [
    "# вчера\n",
    "\n",
    "yestoday = (datetime.today() - timedelta(days=1)) #.strftime('%Y-%m-%d')\n",
    "\n",
    "print('yestoday: ', yestoday)"
   ]
  },
  {
   "cell_type": "code",
   "execution_count": 12,
   "metadata": {},
   "outputs": [
    {
     "data": {
      "text/plain": [
       "'2022-01-10'"
      ]
     },
     "execution_count": 12,
     "metadata": {},
     "output_type": "execute_result"
    }
   ],
   "source": [
    "yestoday2 = yestoday.strftime('%Y-%m-%d')\n",
    "\n",
    "yestoday2"
   ]
  },
  {
   "cell_type": "code",
   "execution_count": 13,
   "metadata": {},
   "outputs": [
    {
     "data": {
      "text/plain": [
       "datetime.datetime"
      ]
     },
     "execution_count": 13,
     "metadata": {},
     "output_type": "execute_result"
    }
   ],
   "source": [
    "type(yestoday)"
   ]
  },
  {
   "cell_type": "code",
   "execution_count": 14,
   "metadata": {},
   "outputs": [
    {
     "name": "stdout",
     "output_type": "stream",
     "text": [
      "dbm:  2021-12-31 00:00:00\n",
      "<class 'pandas._libs.tslibs.timestamps.Timestamp'>\n"
     ]
    }
   ],
   "source": [
    "from pandas.tseries.offsets import MonthEnd, MonthBegin\n",
    "\n",
    "dbm = pd.to_datetime(today2)-MonthEnd(1)\n",
    "\n",
    "print('dbm: ', dbm)\n",
    "print(type(dbm))"
   ]
  },
  {
   "cell_type": "code",
   "execution_count": 15,
   "metadata": {},
   "outputs": [
    {
     "data": {
      "text/plain": [
       "Timestamp('2022-01-10 00:00:00')"
      ]
     },
     "execution_count": 15,
     "metadata": {},
     "output_type": "execute_result"
    }
   ],
   "source": [
    "y = pd.to_datetime(today2)-timedelta(days=1)\n",
    "\n",
    "y"
   ]
  },
  {
   "cell_type": "code",
   "execution_count": 16,
   "metadata": {},
   "outputs": [],
   "source": [
    "#Табл с данными только по МТФ теплоходам стартующими с 2022 года и далее\n",
    "df1MTF = df1[df1['operator_name'] == \"ОАО 'Мостурфлот'\"]"
   ]
  },
  {
   "cell_type": "code",
   "execution_count": 17,
   "metadata": {},
   "outputs": [
    {
     "name": "stderr",
     "output_type": "stream",
     "text": [
      "C:\\Program Files\\Python37\\lib\\site-packages\\ipykernel_launcher.py:7: SettingWithCopyWarning: \n",
      "A value is trying to be set on a copy of a slice from a DataFrame.\n",
      "Try using .loc[row_indexer,col_indexer] = value instead\n",
      "\n",
      "See the caveats in the documentation: https://pandas.pydata.org/pandas-docs/stable/user_guide/indexing.html#returning-a-view-versus-a-copy\n",
      "  import sys\n",
      "C:\\Program Files\\Python37\\lib\\site-packages\\ipykernel_launcher.py:8: SettingWithCopyWarning: \n",
      "A value is trying to be set on a copy of a slice from a DataFrame.\n",
      "Try using .loc[row_indexer,col_indexer] = value instead\n",
      "\n",
      "See the caveats in the documentation: https://pandas.pydata.org/pandas-docs/stable/user_guide/indexing.html#returning-a-view-versus-a-copy\n",
      "  \n"
     ]
    }
   ],
   "source": [
    "#надо добавать столбцы с полож и отриц суммами в ST2\n",
    "#df2020MTF.where(df2020MTF['ST2']>0) # верно отрабатывает\n",
    "\n",
    "#plus = df2020MTF.where(df2020MTF['ST2']>0)\n",
    "#minus = df2020MTF.where(df2020MTF['ST2']<0)\n",
    "\n",
    "df1MTF['ST2p'] = np.where(df1MTF['ST2']>0, df1MTF['ST2'], 0) # верно отрабатывает\n",
    "df1MTF['ST2m'] = np.where(df1MTF['ST2']<0, df1MTF['ST2'], 0) # верно отрабатывает"
   ]
  },
  {
   "cell_type": "code",
   "execution_count": 18,
   "metadata": {},
   "outputs": [],
   "source": [
    "# df1MTF.info()"
   ]
  },
  {
   "cell_type": "code",
   "execution_count": 20,
   "metadata": {},
   "outputs": [
    {
     "name": "stderr",
     "output_type": "stream",
     "text": [
      "C:\\Program Files\\Python37\\lib\\site-packages\\ipykernel_launcher.py:3: SettingWithCopyWarning: \n",
      "A value is trying to be set on a copy of a slice from a DataFrame.\n",
      "Try using .loc[row_indexer,col_indexer] = value instead\n",
      "\n",
      "See the caveats in the documentation: https://pandas.pydata.org/pandas-docs/stable/user_guide/indexing.html#returning-a-view-versus-a-copy\n",
      "  This is separate from the ipykernel package so we can avoid doing imports until\n",
      "C:\\Program Files\\Python37\\lib\\site-packages\\pandas\\core\\indexing.py:1773: SettingWithCopyWarning: \n",
      "A value is trying to be set on a copy of a slice from a DataFrame.\n",
      "Try using .loc[row_indexer,col_indexer] = value instead\n",
      "\n",
      "See the caveats in the documentation: https://pandas.pydata.org/pandas-docs/stable/user_guide/indexing.html#returning-a-view-versus-a-copy\n",
      "  self._setitem_single_column(ilocs[0], value, pi)\n",
      "C:\\Program Files\\Python37\\lib\\site-packages\\ipykernel_launcher.py:7: SettingWithCopyWarning: \n",
      "A value is trying to be set on a copy of a slice from a DataFrame.\n",
      "Try using .loc[row_indexer,col_indexer] = value instead\n",
      "\n",
      "See the caveats in the documentation: https://pandas.pydata.org/pandas-docs/stable/user_guide/indexing.html#returning-a-view-versus-a-copy\n",
      "  import sys\n"
     ]
    }
   ],
   "source": [
    "# делаю через  loc\n",
    "\n",
    "df1MTF['ST2p'] = 0\n",
    "\n",
    "df1MTF.loc[df1MTF['ST2']>0, 'ST2p'] =  df1MTF['ST2']\n",
    "\n",
    "df1MTF['ST2m'] = 0\n",
    "\n",
    "df1MTF.loc[df1MTF['ST2']<0, 'ST2m'] =  df1MTF['ST2']\n"
   ]
  },
  {
   "cell_type": "code",
   "execution_count": 21,
   "metadata": {},
   "outputs": [],
   "source": [
    "# df1MTF.info()"
   ]
  },
  {
   "cell_type": "code",
   "execution_count": 22,
   "metadata": {},
   "outputs": [],
   "source": [
    "# df1MTF['doc_date']"
   ]
  },
  {
   "cell_type": "code",
   "execution_count": 23,
   "metadata": {},
   "outputs": [],
   "source": [
    "# база только за вчерашний день\n",
    "# df1.info()\n",
    "\n",
    "# dfyt = df1MTF[df1MTF['doc_date'] > dbm]\n",
    "\n",
    "dfy = df1MTF[df1MTF['doc_date'] == y]\n",
    "\n",
    "# dftm.tail()"
   ]
  },
  {
   "cell_type": "code",
   "execution_count": 24,
   "metadata": {},
   "outputs": [
    {
     "data": {
      "text/html": [
       "<div>\n",
       "<style scoped>\n",
       "    .dataframe tbody tr th:only-of-type {\n",
       "        vertical-align: middle;\n",
       "    }\n",
       "\n",
       "    .dataframe tbody tr th {\n",
       "        vertical-align: top;\n",
       "    }\n",
       "\n",
       "    .dataframe thead th {\n",
       "        text-align: right;\n",
       "    }\n",
       "</style>\n",
       "<table border=\"1\" class=\"dataframe\">\n",
       "  <thead>\n",
       "    <tr style=\"text-align: right;\">\n",
       "      <th></th>\n",
       "      <th>doc_num</th>\n",
       "      <th>doc_date</th>\n",
       "      <th>cruise_type</th>\n",
       "      <th>summ</th>\n",
       "      <th>date_start</th>\n",
       "      <th>date_finish</th>\n",
       "      <th>route</th>\n",
       "      <th>ship_name</th>\n",
       "      <th>payer</th>\n",
       "      <th>operator_name</th>\n",
       "      <th>...</th>\n",
       "      <th>office</th>\n",
       "      <th>Month</th>\n",
       "      <th>Year</th>\n",
       "      <th>Day</th>\n",
       "      <th>Month_start</th>\n",
       "      <th>Year_start</th>\n",
       "      <th>ST</th>\n",
       "      <th>ST2</th>\n",
       "      <th>ST2p</th>\n",
       "      <th>ST2m</th>\n",
       "    </tr>\n",
       "  </thead>\n",
       "  <tbody>\n",
       "    <tr>\n",
       "      <th>92823</th>\n",
       "      <td>145161</td>\n",
       "      <td>2022-01-10</td>\n",
       "      <td>rivercruises</td>\n",
       "      <td>55677.0</td>\n",
       "      <td>2022-08-01</td>\n",
       "      <td>2022-08-08</td>\n",
       "      <td>Москва (СРВ) - Углич - Кузино - Горицы - Мандр...</td>\n",
       "      <td>Николай КАРАМЗИН</td>\n",
       "      <td>Никитина Екатерина Сергеевна</td>\n",
       "      <td>ОАО 'Мостурфлот'</td>\n",
       "      <td>...</td>\n",
       "      <td>None</td>\n",
       "      <td>1</td>\n",
       "      <td>2022</td>\n",
       "      <td>10</td>\n",
       "      <td>8</td>\n",
       "      <td>2022</td>\n",
       "      <td>55.677</td>\n",
       "      <td>55.7</td>\n",
       "      <td>55.7</td>\n",
       "      <td>0.0</td>\n",
       "    </tr>\n",
       "    <tr>\n",
       "      <th>93356</th>\n",
       "      <td>145158</td>\n",
       "      <td>2022-01-10</td>\n",
       "      <td>rivercruises</td>\n",
       "      <td>68985.0</td>\n",
       "      <td>2022-06-20</td>\n",
       "      <td>2022-06-25</td>\n",
       "      <td>Москва (СРВ) - Мышкин - Ярославль - Плёс - Кос...</td>\n",
       "      <td>Андрей РУБЛЕВ</td>\n",
       "      <td>Самошкин Алексей Павлович</td>\n",
       "      <td>ОАО 'Мостурфлот'</td>\n",
       "      <td>...</td>\n",
       "      <td>None</td>\n",
       "      <td>1</td>\n",
       "      <td>2022</td>\n",
       "      <td>10</td>\n",
       "      <td>6</td>\n",
       "      <td>2022</td>\n",
       "      <td>68.985</td>\n",
       "      <td>69.0</td>\n",
       "      <td>69.0</td>\n",
       "      <td>0.0</td>\n",
       "    </tr>\n",
       "    <tr>\n",
       "      <th>96745</th>\n",
       "      <td>145199</td>\n",
       "      <td>2022-01-10</td>\n",
       "      <td>rivercruises</td>\n",
       "      <td>143352.0</td>\n",
       "      <td>2022-06-05</td>\n",
       "      <td>2022-06-10</td>\n",
       "      <td>Москва (СРВ) - Углич - Ярославль - Плёс - Кост...</td>\n",
       "      <td>Илья РЕПИН</td>\n",
       "      <td>ООО \"Твой Круиз\"</td>\n",
       "      <td>ОАО 'Мостурфлот'</td>\n",
       "      <td>...</td>\n",
       "      <td>Таганка</td>\n",
       "      <td>1</td>\n",
       "      <td>2022</td>\n",
       "      <td>10</td>\n",
       "      <td>6</td>\n",
       "      <td>2022</td>\n",
       "      <td>143.352</td>\n",
       "      <td>143.4</td>\n",
       "      <td>143.4</td>\n",
       "      <td>0.0</td>\n",
       "    </tr>\n",
       "    <tr>\n",
       "      <th>97329</th>\n",
       "      <td>145181</td>\n",
       "      <td>2022-01-10</td>\n",
       "      <td>rivercruises</td>\n",
       "      <td>37800.0</td>\n",
       "      <td>2022-08-13</td>\n",
       "      <td>2022-08-19</td>\n",
       "      <td>Москва (СРВ) - Мышкин - Ярославль - Кострома -...</td>\n",
       "      <td>РОССИЯ</td>\n",
       "      <td>ООО \"Инфофлот-С\"</td>\n",
       "      <td>ОАО 'Мостурфлот'</td>\n",
       "      <td>...</td>\n",
       "      <td>Таганка</td>\n",
       "      <td>1</td>\n",
       "      <td>2022</td>\n",
       "      <td>10</td>\n",
       "      <td>8</td>\n",
       "      <td>2022</td>\n",
       "      <td>37.800</td>\n",
       "      <td>37.8</td>\n",
       "      <td>37.8</td>\n",
       "      <td>0.0</td>\n",
       "    </tr>\n",
       "    <tr>\n",
       "      <th>103363</th>\n",
       "      <td>145193</td>\n",
       "      <td>2022-01-10</td>\n",
       "      <td>rivercruises</td>\n",
       "      <td>90396.0</td>\n",
       "      <td>2022-07-22</td>\n",
       "      <td>2022-07-30</td>\n",
       "      <td>Москва (СРВ) - Углич - Ярославль - Н.Новгород ...</td>\n",
       "      <td>Андрей РУБЛЕВ</td>\n",
       "      <td>ИП Воробьева Э.В.</td>\n",
       "      <td>ОАО 'Мостурфлот'</td>\n",
       "      <td>...</td>\n",
       "      <td>Таганка</td>\n",
       "      <td>1</td>\n",
       "      <td>2022</td>\n",
       "      <td>10</td>\n",
       "      <td>7</td>\n",
       "      <td>2022</td>\n",
       "      <td>90.396</td>\n",
       "      <td>90.4</td>\n",
       "      <td>90.4</td>\n",
       "      <td>0.0</td>\n",
       "    </tr>\n",
       "    <tr>\n",
       "      <th>103944</th>\n",
       "      <td>145142</td>\n",
       "      <td>2022-01-10</td>\n",
       "      <td>rivercruises</td>\n",
       "      <td>64260.0</td>\n",
       "      <td>2022-07-22</td>\n",
       "      <td>2022-07-30</td>\n",
       "      <td>Москва (СРВ) - Углич - Ярославль - Н.Новгород ...</td>\n",
       "      <td>Андрей РУБЛЕВ</td>\n",
       "      <td>Рычкова Элла Николаевна</td>\n",
       "      <td>ОАО 'Мостурфлот'</td>\n",
       "      <td>...</td>\n",
       "      <td>None</td>\n",
       "      <td>1</td>\n",
       "      <td>2022</td>\n",
       "      <td>10</td>\n",
       "      <td>7</td>\n",
       "      <td>2022</td>\n",
       "      <td>64.260</td>\n",
       "      <td>64.3</td>\n",
       "      <td>64.3</td>\n",
       "      <td>0.0</td>\n",
       "    </tr>\n",
       "    <tr>\n",
       "      <th>105430</th>\n",
       "      <td>145198</td>\n",
       "      <td>2022-01-10</td>\n",
       "      <td>rivercruises</td>\n",
       "      <td>124380.0</td>\n",
       "      <td>2022-06-04</td>\n",
       "      <td>2022-06-17</td>\n",
       "      <td>Москва (СРВ) - Углич - Горицы - Мандроги - о. ...</td>\n",
       "      <td>И.А. КРЫЛОВ</td>\n",
       "      <td>ООО \"Твой Круиз\"</td>\n",
       "      <td>ОАО 'Мостурфлот'</td>\n",
       "      <td>...</td>\n",
       "      <td>Таганка</td>\n",
       "      <td>1</td>\n",
       "      <td>2022</td>\n",
       "      <td>10</td>\n",
       "      <td>6</td>\n",
       "      <td>2022</td>\n",
       "      <td>124.380</td>\n",
       "      <td>124.4</td>\n",
       "      <td>124.4</td>\n",
       "      <td>0.0</td>\n",
       "    </tr>\n",
       "    <tr>\n",
       "      <th>107728</th>\n",
       "      <td>145191</td>\n",
       "      <td>2022-01-10</td>\n",
       "      <td>rivercruises</td>\n",
       "      <td>83916.0</td>\n",
       "      <td>2022-05-10</td>\n",
       "      <td>2022-05-20</td>\n",
       "      <td>Москва (СРВ) - Углич - Кузино - Горицы - Мандр...</td>\n",
       "      <td>Михаил Булгаков</td>\n",
       "      <td>ООО \"Твой Круиз\"</td>\n",
       "      <td>ОАО 'Мостурфлот'</td>\n",
       "      <td>...</td>\n",
       "      <td>Таганка</td>\n",
       "      <td>1</td>\n",
       "      <td>2022</td>\n",
       "      <td>10</td>\n",
       "      <td>5</td>\n",
       "      <td>2022</td>\n",
       "      <td>83.916</td>\n",
       "      <td>83.9</td>\n",
       "      <td>83.9</td>\n",
       "      <td>0.0</td>\n",
       "    </tr>\n",
       "    <tr>\n",
       "      <th>108592</th>\n",
       "      <td>145176</td>\n",
       "      <td>2022-01-10</td>\n",
       "      <td>rivercruises</td>\n",
       "      <td>26860.0</td>\n",
       "      <td>2022-06-10</td>\n",
       "      <td>2022-06-13</td>\n",
       "      <td>Москва (СРВ) - Дубна - Калязин - Мышкин - Угли...</td>\n",
       "      <td>Николай КАРАМЗИН</td>\n",
       "      <td>Винидиктов Александр Владимирович</td>\n",
       "      <td>ОАО 'Мостурфлот'</td>\n",
       "      <td>...</td>\n",
       "      <td>None</td>\n",
       "      <td>1</td>\n",
       "      <td>2022</td>\n",
       "      <td>10</td>\n",
       "      <td>6</td>\n",
       "      <td>2022</td>\n",
       "      <td>26.860</td>\n",
       "      <td>26.9</td>\n",
       "      <td>26.9</td>\n",
       "      <td>0.0</td>\n",
       "    </tr>\n",
       "    <tr>\n",
       "      <th>113107</th>\n",
       "      <td>145165</td>\n",
       "      <td>2022-01-10</td>\n",
       "      <td>rivercruises</td>\n",
       "      <td>85050.0</td>\n",
       "      <td>2022-07-24</td>\n",
       "      <td>2022-07-31</td>\n",
       "      <td>Москва (СРВ) - Мышкин - Кострома - Плёс - Н.Но...</td>\n",
       "      <td>Княжна ВИКТОРИЯ</td>\n",
       "      <td>Добычина Марина Владимировна</td>\n",
       "      <td>ОАО 'Мостурфлот'</td>\n",
       "      <td>...</td>\n",
       "      <td>None</td>\n",
       "      <td>1</td>\n",
       "      <td>2022</td>\n",
       "      <td>10</td>\n",
       "      <td>7</td>\n",
       "      <td>2022</td>\n",
       "      <td>85.050</td>\n",
       "      <td>85.0</td>\n",
       "      <td>85.0</td>\n",
       "      <td>0.0</td>\n",
       "    </tr>\n",
       "    <tr>\n",
       "      <th>113224</th>\n",
       "      <td>145195</td>\n",
       "      <td>2022-01-10</td>\n",
       "      <td>rivercruises</td>\n",
       "      <td>99810.0</td>\n",
       "      <td>2022-07-17</td>\n",
       "      <td>2022-07-24</td>\n",
       "      <td>Москва (СРВ) - Мышкин - Кострома - Плёс - Н.Но...</td>\n",
       "      <td>Александр Грин</td>\n",
       "      <td>ООО \"ЮниВестМедиа\"</td>\n",
       "      <td>ОАО 'Мостурфлот'</td>\n",
       "      <td>...</td>\n",
       "      <td>Таганка</td>\n",
       "      <td>1</td>\n",
       "      <td>2022</td>\n",
       "      <td>10</td>\n",
       "      <td>7</td>\n",
       "      <td>2022</td>\n",
       "      <td>99.810</td>\n",
       "      <td>99.8</td>\n",
       "      <td>99.8</td>\n",
       "      <td>0.0</td>\n",
       "    </tr>\n",
       "    <tr>\n",
       "      <th>114575</th>\n",
       "      <td>145160</td>\n",
       "      <td>2022-01-10</td>\n",
       "      <td>rivercruises</td>\n",
       "      <td>50000.0</td>\n",
       "      <td>2022-05-10</td>\n",
       "      <td>2022-05-20</td>\n",
       "      <td>Москва (СРВ) - Углич - Кузино - Горицы - Мандр...</td>\n",
       "      <td>Михаил Булгаков</td>\n",
       "      <td>Фролова Елена Николаевна</td>\n",
       "      <td>ОАО 'Мостурфлот'</td>\n",
       "      <td>...</td>\n",
       "      <td>Таганка</td>\n",
       "      <td>1</td>\n",
       "      <td>2022</td>\n",
       "      <td>10</td>\n",
       "      <td>5</td>\n",
       "      <td>2022</td>\n",
       "      <td>50.000</td>\n",
       "      <td>50.0</td>\n",
       "      <td>50.0</td>\n",
       "      <td>0.0</td>\n",
       "    </tr>\n",
       "    <tr>\n",
       "      <th>116212</th>\n",
       "      <td>145201</td>\n",
       "      <td>2022-01-10</td>\n",
       "      <td>rivercruises</td>\n",
       "      <td>166374.0</td>\n",
       "      <td>2022-07-02</td>\n",
       "      <td>2022-07-14</td>\n",
       "      <td>Москва (СРВ) - Мышкин - Кузино - Петрозаводск ...</td>\n",
       "      <td>И.А. КРЫЛОВ</td>\n",
       "      <td>ООО \"Твой Круиз\"</td>\n",
       "      <td>ОАО 'Мостурфлот'</td>\n",
       "      <td>...</td>\n",
       "      <td>Таганка</td>\n",
       "      <td>1</td>\n",
       "      <td>2022</td>\n",
       "      <td>10</td>\n",
       "      <td>7</td>\n",
       "      <td>2022</td>\n",
       "      <td>166.374</td>\n",
       "      <td>166.4</td>\n",
       "      <td>166.4</td>\n",
       "      <td>0.0</td>\n",
       "    </tr>\n",
       "    <tr>\n",
       "      <th>118356</th>\n",
       "      <td>145170</td>\n",
       "      <td>2022-01-10</td>\n",
       "      <td>rivercruises</td>\n",
       "      <td>379240.0</td>\n",
       "      <td>2022-08-31</td>\n",
       "      <td>2022-09-18</td>\n",
       "      <td>Москва (СРВ) - Углич - Кострома - Плёс - Н.Нов...</td>\n",
       "      <td>И.А. КРЫЛОВ</td>\n",
       "      <td>Соколов Александр Владимирович</td>\n",
       "      <td>ОАО 'Мостурфлот'</td>\n",
       "      <td>...</td>\n",
       "      <td>Таганка</td>\n",
       "      <td>1</td>\n",
       "      <td>2022</td>\n",
       "      <td>10</td>\n",
       "      <td>8</td>\n",
       "      <td>2022</td>\n",
       "      <td>379.240</td>\n",
       "      <td>379.2</td>\n",
       "      <td>379.2</td>\n",
       "      <td>0.0</td>\n",
       "    </tr>\n",
       "    <tr>\n",
       "      <th>119185</th>\n",
       "      <td>145168</td>\n",
       "      <td>2022-01-10</td>\n",
       "      <td>rivercruises</td>\n",
       "      <td>32971.0</td>\n",
       "      <td>2022-05-15</td>\n",
       "      <td>2022-05-26</td>\n",
       "      <td>Москва (СРВ) - Мышкин - Горицы - Мандроги - о....</td>\n",
       "      <td>РОССИЯ</td>\n",
       "      <td>Ермолаев Сергей Александрович</td>\n",
       "      <td>ОАО 'Мостурфлот'</td>\n",
       "      <td>...</td>\n",
       "      <td>None</td>\n",
       "      <td>1</td>\n",
       "      <td>2022</td>\n",
       "      <td>10</td>\n",
       "      <td>5</td>\n",
       "      <td>2022</td>\n",
       "      <td>32.971</td>\n",
       "      <td>33.0</td>\n",
       "      <td>33.0</td>\n",
       "      <td>0.0</td>\n",
       "    </tr>\n",
       "    <tr>\n",
       "      <th>119635</th>\n",
       "      <td>145151</td>\n",
       "      <td>2022-01-10</td>\n",
       "      <td>rivercruises</td>\n",
       "      <td>144.0</td>\n",
       "      <td>2022-07-08</td>\n",
       "      <td>2022-07-10</td>\n",
       "      <td>Москва (СРВ) - Тверь - Хвойный бор - Москва (СРВ)</td>\n",
       "      <td>Илья РЕПИН</td>\n",
       "      <td>Песоцкий Дмитрий Владимирович</td>\n",
       "      <td>ОАО 'Мостурфлот'</td>\n",
       "      <td>...</td>\n",
       "      <td>None</td>\n",
       "      <td>1</td>\n",
       "      <td>2022</td>\n",
       "      <td>10</td>\n",
       "      <td>7</td>\n",
       "      <td>2022</td>\n",
       "      <td>0.144</td>\n",
       "      <td>0.1</td>\n",
       "      <td>0.1</td>\n",
       "      <td>0.0</td>\n",
       "    </tr>\n",
       "    <tr>\n",
       "      <th>124844</th>\n",
       "      <td>145186</td>\n",
       "      <td>2022-01-10</td>\n",
       "      <td>rivercruises</td>\n",
       "      <td>64800.0</td>\n",
       "      <td>2022-09-01</td>\n",
       "      <td>2022-09-12</td>\n",
       "      <td>Москва (СРВ) - Мышкин - Горицы - Мандроги - о....</td>\n",
       "      <td>РОССИЯ</td>\n",
       "      <td>ООО \"ИНФОФЛОТ МОСКВА\"</td>\n",
       "      <td>ОАО 'Мостурфлот'</td>\n",
       "      <td>...</td>\n",
       "      <td>Таганка</td>\n",
       "      <td>1</td>\n",
       "      <td>2022</td>\n",
       "      <td>10</td>\n",
       "      <td>9</td>\n",
       "      <td>2022</td>\n",
       "      <td>64.800</td>\n",
       "      <td>64.8</td>\n",
       "      <td>64.8</td>\n",
       "      <td>0.0</td>\n",
       "    </tr>\n",
       "    <tr>\n",
       "      <th>125494</th>\n",
       "      <td>145171</td>\n",
       "      <td>2022-01-10</td>\n",
       "      <td>rivercruises</td>\n",
       "      <td>12501.0</td>\n",
       "      <td>2022-07-15</td>\n",
       "      <td>2022-07-17</td>\n",
       "      <td>Москва (ЮРВ) - Константиново - Москва (ЮРВ)</td>\n",
       "      <td>СЕРГЕЙ ОБРАЗЦОВ</td>\n",
       "      <td>Мельчугова Марина Петровна</td>\n",
       "      <td>ОАО 'Мостурфлот'</td>\n",
       "      <td>...</td>\n",
       "      <td>None</td>\n",
       "      <td>1</td>\n",
       "      <td>2022</td>\n",
       "      <td>10</td>\n",
       "      <td>7</td>\n",
       "      <td>2022</td>\n",
       "      <td>12.501</td>\n",
       "      <td>12.5</td>\n",
       "      <td>12.5</td>\n",
       "      <td>0.0</td>\n",
       "    </tr>\n",
       "    <tr>\n",
       "      <th>126798</th>\n",
       "      <td>145190</td>\n",
       "      <td>2022-01-10</td>\n",
       "      <td>rivercruises</td>\n",
       "      <td>80514.0</td>\n",
       "      <td>2022-08-22</td>\n",
       "      <td>2022-08-26</td>\n",
       "      <td>Москва (СРВ) - Калязин - Кострома - Плёс - Гор...</td>\n",
       "      <td>Николай КАРАМЗИН</td>\n",
       "      <td>ООО \"Твой Круиз\"</td>\n",
       "      <td>ОАО 'Мостурфлот'</td>\n",
       "      <td>...</td>\n",
       "      <td>Таганка</td>\n",
       "      <td>1</td>\n",
       "      <td>2022</td>\n",
       "      <td>10</td>\n",
       "      <td>8</td>\n",
       "      <td>2022</td>\n",
       "      <td>80.514</td>\n",
       "      <td>80.5</td>\n",
       "      <td>80.5</td>\n",
       "      <td>0.0</td>\n",
       "    </tr>\n",
       "    <tr>\n",
       "      <th>129886</th>\n",
       "      <td>145174</td>\n",
       "      <td>2022-01-10</td>\n",
       "      <td>rivercruises</td>\n",
       "      <td>-53800.0</td>\n",
       "      <td>2022-07-11</td>\n",
       "      <td>2022-07-15</td>\n",
       "      <td>Москва (СРВ) - Калязин - Ярославль - Мышкин - ...</td>\n",
       "      <td>Илья РЕПИН</td>\n",
       "      <td>Горохова Наталья Евгеньевна</td>\n",
       "      <td>ОАО 'Мостурфлот'</td>\n",
       "      <td>...</td>\n",
       "      <td>Таганка</td>\n",
       "      <td>1</td>\n",
       "      <td>2022</td>\n",
       "      <td>10</td>\n",
       "      <td>7</td>\n",
       "      <td>2022</td>\n",
       "      <td>-53.800</td>\n",
       "      <td>-53.8</td>\n",
       "      <td>0.0</td>\n",
       "      <td>-53.8</td>\n",
       "    </tr>\n",
       "  </tbody>\n",
       "</table>\n",
       "<p>20 rows × 24 columns</p>\n",
       "</div>"
      ],
      "text/plain": [
       "        doc_num   doc_date   cruise_type      summ date_start date_finish  \\\n",
       "92823    145161 2022-01-10  rivercruises   55677.0 2022-08-01  2022-08-08   \n",
       "93356    145158 2022-01-10  rivercruises   68985.0 2022-06-20  2022-06-25   \n",
       "96745    145199 2022-01-10  rivercruises  143352.0 2022-06-05  2022-06-10   \n",
       "97329    145181 2022-01-10  rivercruises   37800.0 2022-08-13  2022-08-19   \n",
       "103363   145193 2022-01-10  rivercruises   90396.0 2022-07-22  2022-07-30   \n",
       "103944   145142 2022-01-10  rivercruises   64260.0 2022-07-22  2022-07-30   \n",
       "105430   145198 2022-01-10  rivercruises  124380.0 2022-06-04  2022-06-17   \n",
       "107728   145191 2022-01-10  rivercruises   83916.0 2022-05-10  2022-05-20   \n",
       "108592   145176 2022-01-10  rivercruises   26860.0 2022-06-10  2022-06-13   \n",
       "113107   145165 2022-01-10  rivercruises   85050.0 2022-07-24  2022-07-31   \n",
       "113224   145195 2022-01-10  rivercruises   99810.0 2022-07-17  2022-07-24   \n",
       "114575   145160 2022-01-10  rivercruises   50000.0 2022-05-10  2022-05-20   \n",
       "116212   145201 2022-01-10  rivercruises  166374.0 2022-07-02  2022-07-14   \n",
       "118356   145170 2022-01-10  rivercruises  379240.0 2022-08-31  2022-09-18   \n",
       "119185   145168 2022-01-10  rivercruises   32971.0 2022-05-15  2022-05-26   \n",
       "119635   145151 2022-01-10  rivercruises     144.0 2022-07-08  2022-07-10   \n",
       "124844   145186 2022-01-10  rivercruises   64800.0 2022-09-01  2022-09-12   \n",
       "125494   145171 2022-01-10  rivercruises   12501.0 2022-07-15  2022-07-17   \n",
       "126798   145190 2022-01-10  rivercruises   80514.0 2022-08-22  2022-08-26   \n",
       "129886   145174 2022-01-10  rivercruises  -53800.0 2022-07-11  2022-07-15   \n",
       "\n",
       "                                                    route         ship_name  \\\n",
       "92823   Москва (СРВ) - Углич - Кузино - Горицы - Мандр...  Николай КАРАМЗИН   \n",
       "93356   Москва (СРВ) - Мышкин - Ярославль - Плёс - Кос...     Андрей РУБЛЕВ   \n",
       "96745   Москва (СРВ) - Углич - Ярославль - Плёс - Кост...        Илья РЕПИН   \n",
       "97329   Москва (СРВ) - Мышкин - Ярославль - Кострома -...            РОССИЯ   \n",
       "103363  Москва (СРВ) - Углич - Ярославль - Н.Новгород ...     Андрей РУБЛЕВ   \n",
       "103944  Москва (СРВ) - Углич - Ярославль - Н.Новгород ...     Андрей РУБЛЕВ   \n",
       "105430  Москва (СРВ) - Углич - Горицы - Мандроги - о. ...       И.А. КРЫЛОВ   \n",
       "107728  Москва (СРВ) - Углич - Кузино - Горицы - Мандр...   Михаил Булгаков   \n",
       "108592  Москва (СРВ) - Дубна - Калязин - Мышкин - Угли...  Николай КАРАМЗИН   \n",
       "113107  Москва (СРВ) - Мышкин - Кострома - Плёс - Н.Но...   Княжна ВИКТОРИЯ   \n",
       "113224  Москва (СРВ) - Мышкин - Кострома - Плёс - Н.Но...    Александр Грин   \n",
       "114575  Москва (СРВ) - Углич - Кузино - Горицы - Мандр...   Михаил Булгаков   \n",
       "116212  Москва (СРВ) - Мышкин - Кузино - Петрозаводск ...       И.А. КРЫЛОВ   \n",
       "118356  Москва (СРВ) - Углич - Кострома - Плёс - Н.Нов...       И.А. КРЫЛОВ   \n",
       "119185  Москва (СРВ) - Мышкин - Горицы - Мандроги - о....            РОССИЯ   \n",
       "119635  Москва (СРВ) - Тверь - Хвойный бор - Москва (СРВ)        Илья РЕПИН   \n",
       "124844  Москва (СРВ) - Мышкин - Горицы - Мандроги - о....            РОССИЯ   \n",
       "125494        Москва (ЮРВ) - Константиново - Москва (ЮРВ)   СЕРГЕЙ ОБРАЗЦОВ   \n",
       "126798  Москва (СРВ) - Калязин - Кострома - Плёс - Гор...  Николай КАРАМЗИН   \n",
       "129886  Москва (СРВ) - Калязин - Ярославль - Мышкин - ...        Илья РЕПИН   \n",
       "\n",
       "                                    payer     operator_name  ...   office  \\\n",
       "92823        Никитина Екатерина Сергеевна  ОАО 'Мостурфлот'  ...     None   \n",
       "93356           Самошкин Алексей Павлович  ОАО 'Мостурфлот'  ...     None   \n",
       "96745                    ООО \"Твой Круиз\"  ОАО 'Мостурфлот'  ...  Таганка   \n",
       "97329                    ООО \"Инфофлот-С\"  ОАО 'Мостурфлот'  ...  Таганка   \n",
       "103363                  ИП Воробьева Э.В.  ОАО 'Мостурфлот'  ...  Таганка   \n",
       "103944            Рычкова Элла Николаевна  ОАО 'Мостурфлот'  ...     None   \n",
       "105430                   ООО \"Твой Круиз\"  ОАО 'Мостурфлот'  ...  Таганка   \n",
       "107728                   ООО \"Твой Круиз\"  ОАО 'Мостурфлот'  ...  Таганка   \n",
       "108592  Винидиктов Александр Владимирович  ОАО 'Мостурфлот'  ...     None   \n",
       "113107       Добычина Марина Владимировна  ОАО 'Мостурфлот'  ...     None   \n",
       "113224                 ООО \"ЮниВестМедиа\"  ОАО 'Мостурфлот'  ...  Таганка   \n",
       "114575           Фролова Елена Николаевна  ОАО 'Мостурфлот'  ...  Таганка   \n",
       "116212                   ООО \"Твой Круиз\"  ОАО 'Мостурфлот'  ...  Таганка   \n",
       "118356     Соколов Александр Владимирович  ОАО 'Мостурфлот'  ...  Таганка   \n",
       "119185      Ермолаев Сергей Александрович  ОАО 'Мостурфлот'  ...     None   \n",
       "119635      Песоцкий Дмитрий Владимирович  ОАО 'Мостурфлот'  ...     None   \n",
       "124844              ООО \"ИНФОФЛОТ МОСКВА\"  ОАО 'Мостурфлот'  ...  Таганка   \n",
       "125494         Мельчугова Марина Петровна  ОАО 'Мостурфлот'  ...     None   \n",
       "126798                   ООО \"Твой Круиз\"  ОАО 'Мостурфлот'  ...  Таганка   \n",
       "129886        Горохова Наталья Евгеньевна  ОАО 'Мостурфлот'  ...  Таганка   \n",
       "\n",
       "        Month  Year Day Month_start  Year_start       ST    ST2   ST2p  ST2m  \n",
       "92823       1  2022  10           8        2022   55.677   55.7   55.7   0.0  \n",
       "93356       1  2022  10           6        2022   68.985   69.0   69.0   0.0  \n",
       "96745       1  2022  10           6        2022  143.352  143.4  143.4   0.0  \n",
       "97329       1  2022  10           8        2022   37.800   37.8   37.8   0.0  \n",
       "103363      1  2022  10           7        2022   90.396   90.4   90.4   0.0  \n",
       "103944      1  2022  10           7        2022   64.260   64.3   64.3   0.0  \n",
       "105430      1  2022  10           6        2022  124.380  124.4  124.4   0.0  \n",
       "107728      1  2022  10           5        2022   83.916   83.9   83.9   0.0  \n",
       "108592      1  2022  10           6        2022   26.860   26.9   26.9   0.0  \n",
       "113107      1  2022  10           7        2022   85.050   85.0   85.0   0.0  \n",
       "113224      1  2022  10           7        2022   99.810   99.8   99.8   0.0  \n",
       "114575      1  2022  10           5        2022   50.000   50.0   50.0   0.0  \n",
       "116212      1  2022  10           7        2022  166.374  166.4  166.4   0.0  \n",
       "118356      1  2022  10           8        2022  379.240  379.2  379.2   0.0  \n",
       "119185      1  2022  10           5        2022   32.971   33.0   33.0   0.0  \n",
       "119635      1  2022  10           7        2022    0.144    0.1    0.1   0.0  \n",
       "124844      1  2022  10           9        2022   64.800   64.8   64.8   0.0  \n",
       "125494      1  2022  10           7        2022   12.501   12.5   12.5   0.0  \n",
       "126798      1  2022  10           8        2022   80.514   80.5   80.5   0.0  \n",
       "129886      1  2022  10           7        2022  -53.800  -53.8    0.0 -53.8  \n",
       "\n",
       "[20 rows x 24 columns]"
      ]
     },
     "execution_count": 24,
     "metadata": {},
     "output_type": "execute_result"
    }
   ],
   "source": [
    "# dfy.info()\n",
    "dfy.tail(20)"
   ]
  },
  {
   "cell_type": "code",
   "execution_count": 25,
   "metadata": {},
   "outputs": [
    {
     "data": {
      "text/html": [
       "<div>\n",
       "<style scoped>\n",
       "    .dataframe tbody tr th:only-of-type {\n",
       "        vertical-align: middle;\n",
       "    }\n",
       "\n",
       "    .dataframe tbody tr th {\n",
       "        vertical-align: top;\n",
       "    }\n",
       "\n",
       "    .dataframe thead tr th {\n",
       "        text-align: left;\n",
       "    }\n",
       "\n",
       "    .dataframe thead tr:last-of-type th {\n",
       "        text-align: right;\n",
       "    }\n",
       "</style>\n",
       "<table border=\"1\" class=\"dataframe\">\n",
       "  <thead>\n",
       "    <tr>\n",
       "      <th></th>\n",
       "      <th>ST2</th>\n",
       "    </tr>\n",
       "    <tr>\n",
       "      <th>Year</th>\n",
       "      <th>2022</th>\n",
       "    </tr>\n",
       "    <tr>\n",
       "      <th>Month</th>\n",
       "      <th>1</th>\n",
       "    </tr>\n",
       "    <tr>\n",
       "      <th>Day</th>\n",
       "      <th>10</th>\n",
       "    </tr>\n",
       "    <tr>\n",
       "      <th>ship_name</th>\n",
       "      <th></th>\n",
       "    </tr>\n",
       "  </thead>\n",
       "  <tbody>\n",
       "    <tr>\n",
       "      <th>Александр Грин</th>\n",
       "      <td>99.8</td>\n",
       "    </tr>\n",
       "    <tr>\n",
       "      <th>Андрей РУБЛЕВ</th>\n",
       "      <td>272.5</td>\n",
       "    </tr>\n",
       "    <tr>\n",
       "      <th>Василий СУРИКОВ</th>\n",
       "      <td>394.4</td>\n",
       "    </tr>\n",
       "    <tr>\n",
       "      <th>И.А. КРЫЛОВ</th>\n",
       "      <td>1350.3</td>\n",
       "    </tr>\n",
       "    <tr>\n",
       "      <th>Илья РЕПИН</th>\n",
       "      <td>89.8</td>\n",
       "    </tr>\n",
       "    <tr>\n",
       "      <th>Княжна ВИКТОРИЯ</th>\n",
       "      <td>288.3</td>\n",
       "    </tr>\n",
       "    <tr>\n",
       "      <th>Михаил Булгаков</th>\n",
       "      <td>255.4</td>\n",
       "    </tr>\n",
       "    <tr>\n",
       "      <th>Николай КАРАМЗИН</th>\n",
       "      <td>209.9</td>\n",
       "    </tr>\n",
       "    <tr>\n",
       "      <th>РОССИЯ</th>\n",
       "      <td>328.7</td>\n",
       "    </tr>\n",
       "    <tr>\n",
       "      <th>СЕРГЕЙ ОБРАЗЦОВ</th>\n",
       "      <td>230.4</td>\n",
       "    </tr>\n",
       "    <tr>\n",
       "      <th>Сергей ЕСЕНИН</th>\n",
       "      <td>203.8</td>\n",
       "    </tr>\n",
       "  </tbody>\n",
       "</table>\n",
       "</div>"
      ],
      "text/plain": [
       "                     ST2\n",
       "Year                2022\n",
       "Month                  1\n",
       "Day                   10\n",
       "ship_name               \n",
       "Александр Грин      99.8\n",
       "Андрей РУБЛЕВ      272.5\n",
       "Василий СУРИКОВ    394.4\n",
       "И.А. КРЫЛОВ       1350.3\n",
       "Илья РЕПИН          89.8\n",
       "Княжна ВИКТОРИЯ    288.3\n",
       "Михаил Булгаков    255.4\n",
       "Николай КАРАМЗИН   209.9\n",
       "РОССИЯ             328.7\n",
       "СЕРГЕЙ ОБРАЗЦОВ    230.4\n",
       "Сергей ЕСЕНИН      203.8"
      ]
     },
     "execution_count": 25,
     "metadata": {},
     "output_type": "execute_result"
    }
   ],
   "source": [
    "# Платежи только за вчерашний день\n",
    "pt1 = pd.pivot_table(dfy, index = ['ship_name'], values = [\"ST2\"], columns = ['Year', 'Month', 'Day'], aggfunc=np.sum, fill_value='', margins=False)\n",
    "\n",
    "pt1"
   ]
  },
  {
   "cell_type": "code",
   "execution_count": null,
   "metadata": {},
   "outputs": [],
   "source": [
    "# \n",
    "\n",
    "txt0 = ('Сводная таблица', pt1)\n",
    "\n",
    "print(txt0)"
   ]
  },
  {
   "cell_type": "code",
   "execution_count": 27,
   "metadata": {},
   "outputs": [
    {
     "data": {
      "text/plain": [
       "array(['Николай КАРАМЗИН', 'Михаил Булгаков', 'Андрей РУБЛЕВ',\n",
       "       'Василий СУРИКОВ', 'И.А. КРЫЛОВ', 'Княжна ВИКТОРИЯ',\n",
       "       'СЕРГЕЙ ОБРАЗЦОВ', 'Илья РЕПИН', 'Александр Грин', 'Сергей ЕСЕНИН',\n",
       "       'РОССИЯ', 'А.С.Пушкин', 'Княжна  АНАСТАСИЯ'], dtype=object)"
      ]
     },
     "execution_count": 27,
     "metadata": {},
     "output_type": "execute_result"
    }
   ],
   "source": [
    "# Перечень всех судов\n",
    "\n",
    "df1MTF['ship_name'].unique()"
   ]
  },
  {
   "cell_type": "code",
   "execution_count": 38,
   "metadata": {},
   "outputs": [
    {
     "data": {
      "text/plain": [
       "328.7"
      ]
     },
     "execution_count": 38,
     "metadata": {},
     "output_type": "execute_result"
    }
   ],
   "source": [
    "# тх РОССИЯ:\n",
    "df_ro = dfy[dfy['ship_name'] == 'РОССИЯ']\n",
    "\n",
    "ro = df_ro['ST2'].sum().round(1)\n",
    "\n",
    "ro"
   ]
  },
  {
   "cell_type": "code",
   "execution_count": 29,
   "metadata": {},
   "outputs": [
    {
     "data": {
      "text/plain": [
       "209.9"
      ]
     },
     "execution_count": 29,
     "metadata": {},
     "output_type": "execute_result"
    }
   ],
   "source": [
    "# тх Николай КАРАМЗИН:\n",
    "df_nk = dfy[dfy['ship_name'] == 'Николай КАРАМЗИН']\n",
    "\n",
    "nk = df_nk['ST2'].sum().round(1)\n",
    "\n",
    "nk\n"
   ]
  },
  {
   "cell_type": "code",
   "execution_count": 30,
   "metadata": {},
   "outputs": [
    {
     "data": {
      "text/plain": [
       "1350.3"
      ]
     },
     "execution_count": 30,
     "metadata": {},
     "output_type": "execute_result"
    }
   ],
   "source": [
    "# тх И.А. КРЫЛОВ:\n",
    "df_ik = dfy[dfy['ship_name'] == 'И.А. КРЫЛОВ']\n",
    "\n",
    "ik = df_ik['ST2'].sum().round(1)\n",
    "\n",
    "ik"
   ]
  },
  {
   "cell_type": "code",
   "execution_count": 31,
   "metadata": {},
   "outputs": [
    {
     "data": {
      "text/plain": [
       "255.4"
      ]
     },
     "execution_count": 31,
     "metadata": {},
     "output_type": "execute_result"
    }
   ],
   "source": [
    "# тх Михаил Булгаков:\n",
    "df_mb = dfy[dfy['ship_name'] == 'Михаил Булгаков']\n",
    "\n",
    "mb = df_mb['ST2'].sum().round(1)\n",
    "\n",
    "mb"
   ]
  },
  {
   "cell_type": "code",
   "execution_count": 32,
   "metadata": {},
   "outputs": [
    {
     "data": {
      "text/plain": [
       "288.3"
      ]
     },
     "execution_count": 32,
     "metadata": {},
     "output_type": "execute_result"
    }
   ],
   "source": [
    "# тх Княжна ВИКТОРИЯ:\n",
    "df_kv = dfy[dfy['ship_name'] == 'Княжна ВИКТОРИЯ']\n",
    "\n",
    "kv = df_kv['ST2'].sum().round(1)\n",
    "\n",
    "kv"
   ]
  },
  {
   "cell_type": "code",
   "execution_count": 33,
   "metadata": {},
   "outputs": [
    {
     "data": {
      "text/plain": [
       "272.5"
      ]
     },
     "execution_count": 33,
     "metadata": {},
     "output_type": "execute_result"
    }
   ],
   "source": [
    "# тх Андрей РУБЛЕВ:\n",
    "df_ar = dfy[dfy['ship_name'] == 'Андрей РУБЛЕВ']\n",
    "\n",
    "ar = df_ar['ST2'].sum().round(1)\n",
    "\n",
    "ar"
   ]
  },
  {
   "cell_type": "code",
   "execution_count": 34,
   "metadata": {},
   "outputs": [
    {
     "data": {
      "text/plain": [
       "230.4"
      ]
     },
     "execution_count": 34,
     "metadata": {},
     "output_type": "execute_result"
    }
   ],
   "source": [
    "# тх СЕРГЕЙ ОБРАЗЦОВ:\n",
    "df_so = dfy[dfy['ship_name'] == 'СЕРГЕЙ ОБРАЗЦОВ']\n",
    "\n",
    "so = df_so['ST2'].sum().round(1)\n",
    "\n",
    "so"
   ]
  },
  {
   "cell_type": "code",
   "execution_count": 35,
   "metadata": {},
   "outputs": [
    {
     "data": {
      "text/plain": [
       "203.8"
      ]
     },
     "execution_count": 35,
     "metadata": {},
     "output_type": "execute_result"
    }
   ],
   "source": [
    "# тх Сергей ЕСЕНИН:\n",
    "df_se = dfy[dfy['ship_name'] == 'Сергей ЕСЕНИН']\n",
    "\n",
    "se = df_se['ST2'].sum().round(1)\n",
    "\n",
    "se\n"
   ]
  },
  {
   "cell_type": "code",
   "execution_count": 36,
   "metadata": {},
   "outputs": [
    {
     "data": {
      "text/plain": [
       "99.8"
      ]
     },
     "execution_count": 36,
     "metadata": {},
     "output_type": "execute_result"
    }
   ],
   "source": [
    "# тх Александр Грин:\n",
    "df_ag = dfy[dfy['ship_name'] == 'Александр Грин']\n",
    "\n",
    "ag = df_ag['ST2'].sum().round(1)\n",
    "\n",
    "ag"
   ]
  },
  {
   "cell_type": "code",
   "execution_count": 37,
   "metadata": {},
   "outputs": [
    {
     "data": {
      "text/plain": [
       "394.4"
      ]
     },
     "execution_count": 37,
     "metadata": {},
     "output_type": "execute_result"
    }
   ],
   "source": [
    "# тх Василий СУРИКОВ:\n",
    "df_vs = dfy[dfy['ship_name'] == 'Василий СУРИКОВ']\n",
    "\n",
    "vs = df_vs['ST2'].sum().round(1)\n",
    "\n",
    "vs"
   ]
  },
  {
   "cell_type": "code",
   "execution_count": 40,
   "metadata": {},
   "outputs": [
    {
     "data": {
      "text/plain": [
       "89.8"
      ]
     },
     "execution_count": 40,
     "metadata": {},
     "output_type": "execute_result"
    }
   ],
   "source": [
    "# тх Илья РЕПИН:\n",
    "df_ir = dfy[dfy['ship_name'] == 'Илья РЕПИН']\n",
    "\n",
    "ir = df_ir['ST2'].sum().round(1)\n",
    "\n",
    "ir"
   ]
  },
  {
   "cell_type": "code",
   "execution_count": 41,
   "metadata": {},
   "outputs": [
    {
     "data": {
      "text/plain": [
       "3723.3"
      ]
     },
     "execution_count": 41,
     "metadata": {},
     "output_type": "execute_result"
    }
   ],
   "source": [
    "# По всем теплоходам\n",
    "\n",
    "total = (nk + ik + mb + kv + ar + so + se + ag + vs + ir+ro).round(1)\n",
    "\n",
    "total"
   ]
  },
  {
   "cell_type": "code",
   "execution_count": 45,
   "metadata": {},
   "outputs": [
    {
     "data": {
      "text/plain": [
       "3723.3"
      ]
     },
     "execution_count": 45,
     "metadata": {},
     "output_type": "execute_result"
    }
   ],
   "source": [
    "total2 = dfy['ST2'].sum().round(1)\n",
    "\n",
    "total2"
   ]
  },
  {
   "cell_type": "code",
   "execution_count": 40,
   "metadata": {},
   "outputs": [
    {
     "data": {
      "text/plain": [
       "'Отчет создан: 2021-11-14'"
      ]
     },
     "execution_count": 40,
     "metadata": {},
     "output_type": "execute_result"
    }
   ],
   "source": [
    "txt_today = f\"Отчет создан: {today2}\"\n",
    "\n",
    "txt_today"
   ]
  },
  {
   "cell_type": "code",
   "execution_count": 47,
   "metadata": {},
   "outputs": [
    {
     "name": "stdout",
     "output_type": "stream",
     "text": [
      "Добрый день.\n",
      "Передаю для информации.\n",
      "Мостурфлот. Booking.\n",
      "Навигиция 2022.\n",
      "Продажи туров по теплоходам за вчерашний день (2022-01-10) составила: 3723.3 тыс.руб.,\n",
      "    в том числе:\n",
      "- Николай КАРАМЗИН:\t 209.9 тыс.руб.,\n",
      "- И.А. КРЫЛОВ:\t\t 1350.3 тыс.руб.,\n",
      "- Михаил Булгаков:\t 255.4 тыс.руб.,\n",
      "- Княжна ВИКТОРИЯ:\t 288.3 тыс.руб.,\n",
      "- РОССИЯ:\t\t 328.7 тыс.руб.,\n",
      "- Андрей РУБЛЕВ:\t 272.5 тыс.руб.,\n",
      "- СЕРГЕЙ ОБРАЗЦОВ:\t 230.4 тыс.руб.,\n",
      "- Сергей ЕСЕНИН:\t 203.8 тыс.руб.,\n",
      "- Александр Грин:\t 99.8 тыс.руб.,\n",
      "- Василий СУРИКОВ:\t 394.4 тыс.руб.,\n",
      "- Илья РЕПИН:\t\t 89.8 тыс.руб.,\n",
      "\n",
      "С уважением, Смоленышев Олег В.\n",
      "2022-01-11 19:37.\n"
     ]
    }
   ],
   "source": [
    "text1 = f\"Добрый день.\\n\\\n",
    "Передаю для информации.\\n\\\n",
    "Мостурфлот. Booking.\\n\\\n",
    "Навигиция 2022.\\n\\\n",
    "Продажи туров по теплоходам за вчерашний день ({yestoday2}) составила: {total} тыс.руб.,\\n\\\n",
    "    в том числе:\\n\\\n",
    "- Николай КАРАМЗИН:\\t {nk} тыс.руб.,\\n\\\n",
    "- И.А. КРЫЛОВ:\\t\\t {ik} тыс.руб.,\\n\\\n",
    "- Михаил Булгаков:\\t {mb} тыс.руб.,\\n\\\n",
    "- Княжна ВИКТОРИЯ:\\t {kv} тыс.руб.,\\n\\\n",
    "- РОССИЯ:\\t\\t {ro} тыс.руб.,\\n\\\n",
    "- Андрей РУБЛЕВ:\\t {ar} тыс.руб.,\\n\\\n",
    "- СЕРГЕЙ ОБРАЗЦОВ:\\t {so} тыс.руб.,\\n\\\n",
    "- Сергей ЕСЕНИН:\\t {se} тыс.руб.,\\n\\\n",
    "- Александр Грин:\\t {ag} тыс.руб.,\\n\\\n",
    "- Василий СУРИКОВ:\\t {vs} тыс.руб.,\\n\\\n",
    "- Илья РЕПИН:\\t\\t {ir} тыс.руб.,\\n\\\n",
    "\\n\\\n",
    "С уважением, Смоленышев Олег В.\\n\\\n",
    "{today3}.\"\n",
    "\n",
    "print(text1)"
   ]
  },
  {
   "cell_type": "code",
   "execution_count": 46,
   "metadata": {},
   "outputs": [
    {
     "name": "stdout",
     "output_type": "stream",
     "text": [
      "Добрый день.\n",
      "Передаю для информации.\n",
      "Мостурфлот. Booking.\n",
      "Навигиция 2022.\n",
      "Продажи туров по теплоходам за вчерашний день (2022-01-10) составили: 3723.3 тыс.руб.,\n",
      "    в том числе:\n",
      "                     ST2\n",
      "Year                2022\n",
      "Month                  1\n",
      "Day                   10\n",
      "ship_name               \n",
      "Александр Грин      99.8\n",
      "Андрей РУБЛЕВ      272.5\n",
      "Василий СУРИКОВ    394.4\n",
      "И.А. КРЫЛОВ       1350.3\n",
      "Илья РЕПИН          89.8\n",
      "Княжна ВИКТОРИЯ    288.3\n",
      "Михаил Булгаков    255.4\n",
      "Николай КАРАМЗИН   209.9\n",
      "РОССИЯ             328.7\n",
      "СЕРГЕЙ ОБРАЗЦОВ    230.4\n",
      "Сергей ЕСЕНИН      203.8\n",
      "\n",
      "С уважением, Смоленышев Олег В.\n",
      "2022-01-11 19:37.\n"
     ]
    }
   ],
   "source": [
    "text2 = f\"Добрый день.\\n\\\n",
    "Передаю для информации.\\n\\\n",
    "Мостурфлот. Booking.\\n\\\n",
    "Навигиция 2022.\\n\\\n",
    "Продажи туров по теплоходам за вчерашний день ({yestoday2}) составили: {total2} тыс.руб.,\\n\\\n",
    "    в том числе:\\n\\\n",
    "{pt1}\\n\\\n",
    "\\n\\\n",
    "С уважением, Смоленышев Олег В.\\n\\\n",
    "{today3}.\"\n",
    "\n",
    "print(text2)"
   ]
  },
  {
   "cell_type": "code",
   "execution_count": 44,
   "metadata": {},
   "outputs": [
    {
     "data": {
      "text/plain": [
       "<Response [400]>"
      ]
     },
     "execution_count": 44,
     "metadata": {},
     "output_type": "execute_result"
    }
   ],
   "source": [
    "# Отправки сообщения в Телеграм канал Smolenishev_reports\n",
    "\n",
    "api_token = 'xxxxxxxxxxxxxxxxxxxxxxxxxxxxxxxx'"
   ]
  },
  {
   "cell_type": "code",
   "execution_count": 45,
   "metadata": {},
   "outputs": [
    {
     "data": {
      "text/plain": [
       "<Response [200]>"
      ]
     },
     "execution_count": 45,
     "metadata": {},
     "output_type": "execute_result"
    }
   ],
   "source": [
    "# создал канал MTF_reports \"id\":-xxxx\n",
    "# отправка в канал сообщения\n",
    "\n",
    "requests.get('https://api.telegram.org/bot{}/sendMessage'.format(api_token), params=dict(chat_id=-xxxxx, text=text1))"
   ]
  },
  {
   "cell_type": "code",
   "execution_count": null,
   "metadata": {},
   "outputs": [],
   "source": []
  }
 ],
 "metadata": {
  "interpreter": {
   "hash": "0600588c3b5f4418cbe7b5ebc6825b479f3bc010269d8b60d75058cdd010adfe"
  },
  "kernelspec": {
   "display_name": "Python 3.7.9 64-bit",
   "name": "python3"
  },
  "language_info": {
   "codemirror_mode": {
    "name": "ipython",
    "version": 3
   },
   "file_extension": ".py",
   "mimetype": "text/x-python",
   "name": "python",
   "nbconvert_exporter": "python",
   "pygments_lexer": "ipython3",
   "version": "3.7.9"
  },
  "orig_nbformat": 4
 },
 "nbformat": 4,
 "nbformat_minor": 2
}
